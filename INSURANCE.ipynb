{
 "cells": [
  {
   "cell_type": "code",
   "execution_count": 1,
   "metadata": {},
   "outputs": [],
   "source": [
    "import numpy as np\n",
    "import pandas as pd\n",
    "import matplotlib.pyplot as plt\n",
    "import seaborn as sns\n",
    "\n",
    "%matplotlib inline"
   ]
  },
  {
   "cell_type": "markdown",
   "metadata": {},
   "source": [
    "## FEATURE DESCRIPTION\n",
    "    - id ==> Unique ID for the customer\n",
    "    - Gender ==> Gender of the customer\n",
    "    - Age ==> Age of the customer\n",
    "    - Driving_License ==> \n",
    "        - 0 : Customer does not have DL, \n",
    "        - 1 : Customer already has DL\n",
    "    - Region_Code ==> Unique code for the region of the customer\n",
    "    - Previously_Insured ==> \n",
    "        - 1 : Customer already has Vehicle Insurance,\n",
    "        - 0 : Customer doesn't have Vehicle Insurance\n",
    "    - Vehicle_Age ==> Age of the Vehicle\n",
    "    - Vehicle_Damage ==> \n",
    "        - 1 : Customer got his/her vehicle damaged in the past,\n",
    "        - 0 : Customer didn't get his/her vehicle damaged in the past.\n",
    "    - Annual_Premium ==> The amount customer needs to pay as premium in the year\n",
    "    - PolicySalesChannel ==> Anonymized Code for the channel of outreaching to the customer ie. Different Agents, Over Mail, Over Phone, In Person, etc.\n",
    "    - Vintage ==> Number of Days, Customer has been associated with the company\n",
    "    - Response ==>\n",
    "        - 1 : Customer is interested, \n",
    "        - 0 : Customer is not interested"
   ]
  },
  {
   "cell_type": "code",
   "execution_count": 2,
   "metadata": {},
   "outputs": [
    {
     "data": {
      "text/html": [
       "<div>\n",
       "<style scoped>\n",
       "    .dataframe tbody tr th:only-of-type {\n",
       "        vertical-align: middle;\n",
       "    }\n",
       "\n",
       "    .dataframe tbody tr th {\n",
       "        vertical-align: top;\n",
       "    }\n",
       "\n",
       "    .dataframe thead th {\n",
       "        text-align: right;\n",
       "    }\n",
       "</style>\n",
       "<table border=\"1\" class=\"dataframe\">\n",
       "  <thead>\n",
       "    <tr style=\"text-align: right;\">\n",
       "      <th></th>\n",
       "      <th>Gender</th>\n",
       "      <th>Age</th>\n",
       "      <th>Driving_License</th>\n",
       "      <th>Region_Code</th>\n",
       "      <th>Previously_Insured</th>\n",
       "      <th>Vehicle_Age</th>\n",
       "      <th>Vehicle_Damage</th>\n",
       "      <th>Annual_Premium</th>\n",
       "      <th>Policy_Sales_Channel</th>\n",
       "      <th>Vintage</th>\n",
       "      <th>Response</th>\n",
       "    </tr>\n",
       "    <tr>\n",
       "      <th>id</th>\n",
       "      <th></th>\n",
       "      <th></th>\n",
       "      <th></th>\n",
       "      <th></th>\n",
       "      <th></th>\n",
       "      <th></th>\n",
       "      <th></th>\n",
       "      <th></th>\n",
       "      <th></th>\n",
       "      <th></th>\n",
       "      <th></th>\n",
       "    </tr>\n",
       "  </thead>\n",
       "  <tbody>\n",
       "    <tr>\n",
       "      <th>1</th>\n",
       "      <td>Male</td>\n",
       "      <td>44</td>\n",
       "      <td>1</td>\n",
       "      <td>28.0</td>\n",
       "      <td>0</td>\n",
       "      <td>&gt; 2 Years</td>\n",
       "      <td>Yes</td>\n",
       "      <td>40454.0</td>\n",
       "      <td>26.0</td>\n",
       "      <td>217</td>\n",
       "      <td>1</td>\n",
       "    </tr>\n",
       "    <tr>\n",
       "      <th>2</th>\n",
       "      <td>Male</td>\n",
       "      <td>76</td>\n",
       "      <td>1</td>\n",
       "      <td>3.0</td>\n",
       "      <td>0</td>\n",
       "      <td>1-2 Year</td>\n",
       "      <td>No</td>\n",
       "      <td>33536.0</td>\n",
       "      <td>26.0</td>\n",
       "      <td>183</td>\n",
       "      <td>0</td>\n",
       "    </tr>\n",
       "    <tr>\n",
       "      <th>3</th>\n",
       "      <td>Male</td>\n",
       "      <td>47</td>\n",
       "      <td>1</td>\n",
       "      <td>28.0</td>\n",
       "      <td>0</td>\n",
       "      <td>&gt; 2 Years</td>\n",
       "      <td>Yes</td>\n",
       "      <td>38294.0</td>\n",
       "      <td>26.0</td>\n",
       "      <td>27</td>\n",
       "      <td>1</td>\n",
       "    </tr>\n",
       "    <tr>\n",
       "      <th>4</th>\n",
       "      <td>Male</td>\n",
       "      <td>21</td>\n",
       "      <td>1</td>\n",
       "      <td>11.0</td>\n",
       "      <td>1</td>\n",
       "      <td>&lt; 1 Year</td>\n",
       "      <td>No</td>\n",
       "      <td>28619.0</td>\n",
       "      <td>152.0</td>\n",
       "      <td>203</td>\n",
       "      <td>0</td>\n",
       "    </tr>\n",
       "    <tr>\n",
       "      <th>5</th>\n",
       "      <td>Female</td>\n",
       "      <td>29</td>\n",
       "      <td>1</td>\n",
       "      <td>41.0</td>\n",
       "      <td>1</td>\n",
       "      <td>&lt; 1 Year</td>\n",
       "      <td>No</td>\n",
       "      <td>27496.0</td>\n",
       "      <td>152.0</td>\n",
       "      <td>39</td>\n",
       "      <td>0</td>\n",
       "    </tr>\n",
       "  </tbody>\n",
       "</table>\n",
       "</div>"
      ],
      "text/plain": [
       "    Gender  Age  Driving_License  Region_Code  Previously_Insured Vehicle_Age  \\\n",
       "id                                                                              \n",
       "1     Male   44                1         28.0                   0   > 2 Years   \n",
       "2     Male   76                1          3.0                   0    1-2 Year   \n",
       "3     Male   47                1         28.0                   0   > 2 Years   \n",
       "4     Male   21                1         11.0                   1    < 1 Year   \n",
       "5   Female   29                1         41.0                   1    < 1 Year   \n",
       "\n",
       "   Vehicle_Damage  Annual_Premium  Policy_Sales_Channel  Vintage  Response  \n",
       "id                                                                          \n",
       "1             Yes         40454.0                  26.0      217         1  \n",
       "2              No         33536.0                  26.0      183         0  \n",
       "3             Yes         38294.0                  26.0       27         1  \n",
       "4              No         28619.0                 152.0      203         0  \n",
       "5              No         27496.0                 152.0       39         0  "
      ]
     },
     "execution_count": 2,
     "metadata": {},
     "output_type": "execute_result"
    }
   ],
   "source": [
    "train = pd.read_csv(\"train_insurance.csv\",index_col=\"id\")\n",
    "test = pd.read_csv(\"test_insurance.csv\",index_col=\"id\")\n",
    "train.head()"
   ]
  },
  {
   "cell_type": "markdown",
   "metadata": {},
   "source": [
    "## DATA EXPLORATION"
   ]
  },
  {
   "cell_type": "code",
   "execution_count": 147,
   "metadata": {},
   "outputs": [
    {
     "name": "stdout",
     "output_type": "stream",
     "text": [
      "<class 'pandas.core.frame.DataFrame'>\n",
      "Int64Index: 381109 entries, 1 to 381109\n",
      "Data columns (total 11 columns):\n",
      " #   Column                Non-Null Count   Dtype  \n",
      "---  ------                --------------   -----  \n",
      " 0   Gender                381109 non-null  object \n",
      " 1   Age                   381109 non-null  int64  \n",
      " 2   Driving_License       381109 non-null  int64  \n",
      " 3   Region_Code           381109 non-null  float64\n",
      " 4   Previously_Insured    381109 non-null  int64  \n",
      " 5   Vehicle_Age           381109 non-null  object \n",
      " 6   Vehicle_Damage        381109 non-null  object \n",
      " 7   Annual_Premium        381109 non-null  float64\n",
      " 8   Policy_Sales_Channel  381109 non-null  float64\n",
      " 9   Vintage               381109 non-null  int64  \n",
      " 10  Response              381109 non-null  int64  \n",
      "dtypes: float64(3), int64(5), object(3)\n",
      "memory usage: 34.9+ MB\n"
     ]
    }
   ],
   "source": [
    "train.info()"
   ]
  },
  {
   "cell_type": "code",
   "execution_count": 148,
   "metadata": {},
   "outputs": [
    {
     "data": {
      "text/plain": [
       "Gender                  0\n",
       "Age                     0\n",
       "Driving_License         0\n",
       "Region_Code             0\n",
       "Previously_Insured      0\n",
       "Vehicle_Age             0\n",
       "Vehicle_Damage          0\n",
       "Annual_Premium          0\n",
       "Policy_Sales_Channel    0\n",
       "Vintage                 0\n",
       "Response                0\n",
       "dtype: int64"
      ]
     },
     "execution_count": 148,
     "metadata": {},
     "output_type": "execute_result"
    }
   ],
   "source": [
    "train.isnull().sum()"
   ]
  },
  {
   "cell_type": "code",
   "execution_count": 149,
   "metadata": {},
   "outputs": [
    {
     "data": {
      "text/html": [
       "<div>\n",
       "<style scoped>\n",
       "    .dataframe tbody tr th:only-of-type {\n",
       "        vertical-align: middle;\n",
       "    }\n",
       "\n",
       "    .dataframe tbody tr th {\n",
       "        vertical-align: top;\n",
       "    }\n",
       "\n",
       "    .dataframe thead th {\n",
       "        text-align: right;\n",
       "    }\n",
       "</style>\n",
       "<table border=\"1\" class=\"dataframe\">\n",
       "  <thead>\n",
       "    <tr style=\"text-align: right;\">\n",
       "      <th></th>\n",
       "      <th>count</th>\n",
       "      <th>unique</th>\n",
       "      <th>top</th>\n",
       "      <th>freq</th>\n",
       "      <th>mean</th>\n",
       "      <th>std</th>\n",
       "      <th>min</th>\n",
       "      <th>25%</th>\n",
       "      <th>50%</th>\n",
       "      <th>75%</th>\n",
       "      <th>max</th>\n",
       "    </tr>\n",
       "  </thead>\n",
       "  <tbody>\n",
       "    <tr>\n",
       "      <th>Gender</th>\n",
       "      <td>381109</td>\n",
       "      <td>2</td>\n",
       "      <td>Male</td>\n",
       "      <td>206089</td>\n",
       "      <td>NaN</td>\n",
       "      <td>NaN</td>\n",
       "      <td>NaN</td>\n",
       "      <td>NaN</td>\n",
       "      <td>NaN</td>\n",
       "      <td>NaN</td>\n",
       "      <td>NaN</td>\n",
       "    </tr>\n",
       "    <tr>\n",
       "      <th>Age</th>\n",
       "      <td>381109</td>\n",
       "      <td>NaN</td>\n",
       "      <td>NaN</td>\n",
       "      <td>NaN</td>\n",
       "      <td>38.8226</td>\n",
       "      <td>15.5116</td>\n",
       "      <td>20</td>\n",
       "      <td>25</td>\n",
       "      <td>36</td>\n",
       "      <td>49</td>\n",
       "      <td>85</td>\n",
       "    </tr>\n",
       "    <tr>\n",
       "      <th>Driving_License</th>\n",
       "      <td>381109</td>\n",
       "      <td>NaN</td>\n",
       "      <td>NaN</td>\n",
       "      <td>NaN</td>\n",
       "      <td>0.997869</td>\n",
       "      <td>0.0461095</td>\n",
       "      <td>0</td>\n",
       "      <td>1</td>\n",
       "      <td>1</td>\n",
       "      <td>1</td>\n",
       "      <td>1</td>\n",
       "    </tr>\n",
       "    <tr>\n",
       "      <th>Region_Code</th>\n",
       "      <td>381109</td>\n",
       "      <td>NaN</td>\n",
       "      <td>NaN</td>\n",
       "      <td>NaN</td>\n",
       "      <td>26.3888</td>\n",
       "      <td>13.2299</td>\n",
       "      <td>0</td>\n",
       "      <td>15</td>\n",
       "      <td>28</td>\n",
       "      <td>35</td>\n",
       "      <td>52</td>\n",
       "    </tr>\n",
       "    <tr>\n",
       "      <th>Previously_Insured</th>\n",
       "      <td>381109</td>\n",
       "      <td>NaN</td>\n",
       "      <td>NaN</td>\n",
       "      <td>NaN</td>\n",
       "      <td>0.45821</td>\n",
       "      <td>0.498251</td>\n",
       "      <td>0</td>\n",
       "      <td>0</td>\n",
       "      <td>0</td>\n",
       "      <td>1</td>\n",
       "      <td>1</td>\n",
       "    </tr>\n",
       "    <tr>\n",
       "      <th>Vehicle_Age</th>\n",
       "      <td>381109</td>\n",
       "      <td>3</td>\n",
       "      <td>1-2 Year</td>\n",
       "      <td>200316</td>\n",
       "      <td>NaN</td>\n",
       "      <td>NaN</td>\n",
       "      <td>NaN</td>\n",
       "      <td>NaN</td>\n",
       "      <td>NaN</td>\n",
       "      <td>NaN</td>\n",
       "      <td>NaN</td>\n",
       "    </tr>\n",
       "    <tr>\n",
       "      <th>Vehicle_Damage</th>\n",
       "      <td>381109</td>\n",
       "      <td>2</td>\n",
       "      <td>Yes</td>\n",
       "      <td>192413</td>\n",
       "      <td>NaN</td>\n",
       "      <td>NaN</td>\n",
       "      <td>NaN</td>\n",
       "      <td>NaN</td>\n",
       "      <td>NaN</td>\n",
       "      <td>NaN</td>\n",
       "      <td>NaN</td>\n",
       "    </tr>\n",
       "    <tr>\n",
       "      <th>Annual_Premium</th>\n",
       "      <td>381109</td>\n",
       "      <td>NaN</td>\n",
       "      <td>NaN</td>\n",
       "      <td>NaN</td>\n",
       "      <td>30564.4</td>\n",
       "      <td>17213.2</td>\n",
       "      <td>2630</td>\n",
       "      <td>24405</td>\n",
       "      <td>31669</td>\n",
       "      <td>39400</td>\n",
       "      <td>540165</td>\n",
       "    </tr>\n",
       "    <tr>\n",
       "      <th>Policy_Sales_Channel</th>\n",
       "      <td>381109</td>\n",
       "      <td>NaN</td>\n",
       "      <td>NaN</td>\n",
       "      <td>NaN</td>\n",
       "      <td>112.034</td>\n",
       "      <td>54.204</td>\n",
       "      <td>1</td>\n",
       "      <td>29</td>\n",
       "      <td>133</td>\n",
       "      <td>152</td>\n",
       "      <td>163</td>\n",
       "    </tr>\n",
       "    <tr>\n",
       "      <th>Vintage</th>\n",
       "      <td>381109</td>\n",
       "      <td>NaN</td>\n",
       "      <td>NaN</td>\n",
       "      <td>NaN</td>\n",
       "      <td>154.347</td>\n",
       "      <td>83.6713</td>\n",
       "      <td>10</td>\n",
       "      <td>82</td>\n",
       "      <td>154</td>\n",
       "      <td>227</td>\n",
       "      <td>299</td>\n",
       "    </tr>\n",
       "    <tr>\n",
       "      <th>Response</th>\n",
       "      <td>381109</td>\n",
       "      <td>NaN</td>\n",
       "      <td>NaN</td>\n",
       "      <td>NaN</td>\n",
       "      <td>0.122563</td>\n",
       "      <td>0.327936</td>\n",
       "      <td>0</td>\n",
       "      <td>0</td>\n",
       "      <td>0</td>\n",
       "      <td>0</td>\n",
       "      <td>1</td>\n",
       "    </tr>\n",
       "  </tbody>\n",
       "</table>\n",
       "</div>"
      ],
      "text/plain": [
       "                       count unique       top    freq      mean        std  \\\n",
       "Gender                381109      2      Male  206089       NaN        NaN   \n",
       "Age                   381109    NaN       NaN     NaN   38.8226    15.5116   \n",
       "Driving_License       381109    NaN       NaN     NaN  0.997869  0.0461095   \n",
       "Region_Code           381109    NaN       NaN     NaN   26.3888    13.2299   \n",
       "Previously_Insured    381109    NaN       NaN     NaN   0.45821   0.498251   \n",
       "Vehicle_Age           381109      3  1-2 Year  200316       NaN        NaN   \n",
       "Vehicle_Damage        381109      2       Yes  192413       NaN        NaN   \n",
       "Annual_Premium        381109    NaN       NaN     NaN   30564.4    17213.2   \n",
       "Policy_Sales_Channel  381109    NaN       NaN     NaN   112.034     54.204   \n",
       "Vintage               381109    NaN       NaN     NaN   154.347    83.6713   \n",
       "Response              381109    NaN       NaN     NaN  0.122563   0.327936   \n",
       "\n",
       "                       min    25%    50%    75%     max  \n",
       "Gender                 NaN    NaN    NaN    NaN     NaN  \n",
       "Age                     20     25     36     49      85  \n",
       "Driving_License          0      1      1      1       1  \n",
       "Region_Code              0     15     28     35      52  \n",
       "Previously_Insured       0      0      0      1       1  \n",
       "Vehicle_Age            NaN    NaN    NaN    NaN     NaN  \n",
       "Vehicle_Damage         NaN    NaN    NaN    NaN     NaN  \n",
       "Annual_Premium        2630  24405  31669  39400  540165  \n",
       "Policy_Sales_Channel     1     29    133    152     163  \n",
       "Vintage                 10     82    154    227     299  \n",
       "Response                 0      0      0      0       1  "
      ]
     },
     "execution_count": 149,
     "metadata": {},
     "output_type": "execute_result"
    }
   ],
   "source": [
    "train.describe(include=\"all\").T"
   ]
  },
  {
   "cell_type": "markdown",
   "metadata": {},
   "source": [
    "## EDA"
   ]
  },
  {
   "cell_type": "markdown",
   "metadata": {},
   "source": [
    "## BINNING,ENCODING"
   ]
  },
  {
   "cell_type": "code",
   "execution_count": 150,
   "metadata": {},
   "outputs": [
    {
     "data": {
      "text/plain": [
       "array(['> 2 Years', '1-2 Year', '< 1 Year'], dtype=object)"
      ]
     },
     "execution_count": 150,
     "metadata": {},
     "output_type": "execute_result"
    }
   ],
   "source": [
    "train[\"Vehicle_Age\"].unique()"
   ]
  },
  {
   "cell_type": "code",
   "execution_count": 151,
   "metadata": {},
   "outputs": [
    {
     "data": {
      "text/plain": [
       "array([44, 76, 47, 21, 29, 24, 23, 56, 32, 41, 71, 37, 25, 42, 60, 65, 49,\n",
       "       34, 51, 26, 57, 79, 48, 45, 72, 30, 54, 27, 38, 22, 78, 20, 39, 62,\n",
       "       58, 59, 63, 50, 67, 77, 28, 69, 52, 31, 33, 43, 36, 53, 70, 46, 55,\n",
       "       40, 61, 75, 64, 35, 66, 68, 74, 73, 84, 83, 81, 80, 82, 85],\n",
       "      dtype=int64)"
      ]
     },
     "execution_count": 151,
     "metadata": {},
     "output_type": "execute_result"
    }
   ],
   "source": [
    "train[\"Age\"].unique()"
   ]
  },
  {
   "cell_type": "code",
   "execution_count": 3,
   "metadata": {},
   "outputs": [],
   "source": [
    "train[\"Gender\"] = train[\"Gender\"].map({\n",
    "    \"Male\" : 0,\n",
    "    \"Female\" : 1\n",
    "})\n",
    "\n",
    "train[\"Vehicle_Damage\"] = train[\"Vehicle_Damage\"].map({\n",
    "    \"Yes\" : 1,\n",
    "    \"No\" : 0\n",
    "})\n",
    "\n",
    "train[\"Vehicle_Age\"] = train[\"Vehicle_Age\"].map({\n",
    "    \"> 2 Years\" : 2,\n",
    "    \"1-2 Year\" : 1,\n",
    "    \"< 1 Year\" :0\n",
    "})\n",
    "\n",
    "age_bin = [20,40,60,75,train[\"Age\"].max()]\n",
    "label = [\"Dewasa\",\"Tua\",\"Pensiunan\",\"Manula\"]\n",
    "train[\"Age_bin\"] = pd.cut(train[\"Age\"],bins=age_bin,labels=label)"
   ]
  },
  {
   "cell_type": "code",
   "execution_count": 153,
   "metadata": {},
   "outputs": [
    {
     "data": {
      "text/html": [
       "<div>\n",
       "<style scoped>\n",
       "    .dataframe tbody tr th:only-of-type {\n",
       "        vertical-align: middle;\n",
       "    }\n",
       "\n",
       "    .dataframe tbody tr th {\n",
       "        vertical-align: top;\n",
       "    }\n",
       "\n",
       "    .dataframe thead th {\n",
       "        text-align: right;\n",
       "    }\n",
       "</style>\n",
       "<table border=\"1\" class=\"dataframe\">\n",
       "  <thead>\n",
       "    <tr style=\"text-align: right;\">\n",
       "      <th></th>\n",
       "      <th>Gender</th>\n",
       "      <th>Age</th>\n",
       "      <th>Driving_License</th>\n",
       "      <th>Region_Code</th>\n",
       "      <th>Previously_Insured</th>\n",
       "      <th>Vehicle_Age</th>\n",
       "      <th>Vehicle_Damage</th>\n",
       "      <th>Annual_Premium</th>\n",
       "      <th>Policy_Sales_Channel</th>\n",
       "      <th>Vintage</th>\n",
       "      <th>Response</th>\n",
       "      <th>Age_bin</th>\n",
       "    </tr>\n",
       "    <tr>\n",
       "      <th>id</th>\n",
       "      <th></th>\n",
       "      <th></th>\n",
       "      <th></th>\n",
       "      <th></th>\n",
       "      <th></th>\n",
       "      <th></th>\n",
       "      <th></th>\n",
       "      <th></th>\n",
       "      <th></th>\n",
       "      <th></th>\n",
       "      <th></th>\n",
       "      <th></th>\n",
       "    </tr>\n",
       "  </thead>\n",
       "  <tbody>\n",
       "    <tr>\n",
       "      <th>1</th>\n",
       "      <td>0</td>\n",
       "      <td>44</td>\n",
       "      <td>1</td>\n",
       "      <td>28.0</td>\n",
       "      <td>0</td>\n",
       "      <td>2</td>\n",
       "      <td>1</td>\n",
       "      <td>40454.0</td>\n",
       "      <td>26.0</td>\n",
       "      <td>217</td>\n",
       "      <td>1</td>\n",
       "      <td>Tua</td>\n",
       "    </tr>\n",
       "    <tr>\n",
       "      <th>2</th>\n",
       "      <td>0</td>\n",
       "      <td>76</td>\n",
       "      <td>1</td>\n",
       "      <td>3.0</td>\n",
       "      <td>0</td>\n",
       "      <td>1</td>\n",
       "      <td>0</td>\n",
       "      <td>33536.0</td>\n",
       "      <td>26.0</td>\n",
       "      <td>183</td>\n",
       "      <td>0</td>\n",
       "      <td>Manula</td>\n",
       "    </tr>\n",
       "    <tr>\n",
       "      <th>3</th>\n",
       "      <td>0</td>\n",
       "      <td>47</td>\n",
       "      <td>1</td>\n",
       "      <td>28.0</td>\n",
       "      <td>0</td>\n",
       "      <td>2</td>\n",
       "      <td>1</td>\n",
       "      <td>38294.0</td>\n",
       "      <td>26.0</td>\n",
       "      <td>27</td>\n",
       "      <td>1</td>\n",
       "      <td>Tua</td>\n",
       "    </tr>\n",
       "    <tr>\n",
       "      <th>4</th>\n",
       "      <td>0</td>\n",
       "      <td>21</td>\n",
       "      <td>1</td>\n",
       "      <td>11.0</td>\n",
       "      <td>1</td>\n",
       "      <td>0</td>\n",
       "      <td>0</td>\n",
       "      <td>28619.0</td>\n",
       "      <td>152.0</td>\n",
       "      <td>203</td>\n",
       "      <td>0</td>\n",
       "      <td>Dewasa</td>\n",
       "    </tr>\n",
       "    <tr>\n",
       "      <th>5</th>\n",
       "      <td>1</td>\n",
       "      <td>29</td>\n",
       "      <td>1</td>\n",
       "      <td>41.0</td>\n",
       "      <td>1</td>\n",
       "      <td>0</td>\n",
       "      <td>0</td>\n",
       "      <td>27496.0</td>\n",
       "      <td>152.0</td>\n",
       "      <td>39</td>\n",
       "      <td>0</td>\n",
       "      <td>Dewasa</td>\n",
       "    </tr>\n",
       "  </tbody>\n",
       "</table>\n",
       "</div>"
      ],
      "text/plain": [
       "    Gender  Age  Driving_License  Region_Code  Previously_Insured  \\\n",
       "id                                                                  \n",
       "1        0   44                1         28.0                   0   \n",
       "2        0   76                1          3.0                   0   \n",
       "3        0   47                1         28.0                   0   \n",
       "4        0   21                1         11.0                   1   \n",
       "5        1   29                1         41.0                   1   \n",
       "\n",
       "    Vehicle_Age  Vehicle_Damage  Annual_Premium  Policy_Sales_Channel  \\\n",
       "id                                                                      \n",
       "1             2               1         40454.0                  26.0   \n",
       "2             1               0         33536.0                  26.0   \n",
       "3             2               1         38294.0                  26.0   \n",
       "4             0               0         28619.0                 152.0   \n",
       "5             0               0         27496.0                 152.0   \n",
       "\n",
       "    Vintage  Response Age_bin  \n",
       "id                             \n",
       "1       217         1     Tua  \n",
       "2       183         0  Manula  \n",
       "3        27         1     Tua  \n",
       "4       203         0  Dewasa  \n",
       "5        39         0  Dewasa  "
      ]
     },
     "execution_count": 153,
     "metadata": {},
     "output_type": "execute_result"
    }
   ],
   "source": [
    "train.head()"
   ]
  },
  {
   "cell_type": "code",
   "execution_count": 154,
   "metadata": {},
   "outputs": [
    {
     "data": {
      "text/html": [
       "<div>\n",
       "<style scoped>\n",
       "    .dataframe tbody tr th:only-of-type {\n",
       "        vertical-align: middle;\n",
       "    }\n",
       "\n",
       "    .dataframe tbody tr th {\n",
       "        vertical-align: top;\n",
       "    }\n",
       "\n",
       "    .dataframe thead th {\n",
       "        text-align: right;\n",
       "    }\n",
       "</style>\n",
       "<table border=\"1\" class=\"dataframe\">\n",
       "  <thead>\n",
       "    <tr style=\"text-align: right;\">\n",
       "      <th></th>\n",
       "      <th>Gender</th>\n",
       "      <th>Age</th>\n",
       "      <th>Driving_License</th>\n",
       "      <th>Region_Code</th>\n",
       "      <th>Previously_Insured</th>\n",
       "      <th>Vehicle_Age</th>\n",
       "      <th>Vehicle_Damage</th>\n",
       "      <th>Annual_Premium</th>\n",
       "      <th>Policy_Sales_Channel</th>\n",
       "      <th>Vintage</th>\n",
       "      <th>Response</th>\n",
       "    </tr>\n",
       "  </thead>\n",
       "  <tbody>\n",
       "    <tr>\n",
       "      <th>Gender</th>\n",
       "      <td>1.000000</td>\n",
       "      <td>-0.145545</td>\n",
       "      <td>0.018374</td>\n",
       "      <td>-0.000604</td>\n",
       "      <td>0.081932</td>\n",
       "      <td>-0.160427</td>\n",
       "      <td>-0.091606</td>\n",
       "      <td>-0.003673</td>\n",
       "      <td>0.111159</td>\n",
       "      <td>0.002517</td>\n",
       "      <td>-0.052440</td>\n",
       "    </tr>\n",
       "    <tr>\n",
       "      <th>Age</th>\n",
       "      <td>-0.145545</td>\n",
       "      <td>1.000000</td>\n",
       "      <td>-0.079782</td>\n",
       "      <td>0.042574</td>\n",
       "      <td>-0.254682</td>\n",
       "      <td>0.765790</td>\n",
       "      <td>0.267534</td>\n",
       "      <td>0.067507</td>\n",
       "      <td>-0.577826</td>\n",
       "      <td>-0.001264</td>\n",
       "      <td>0.111147</td>\n",
       "    </tr>\n",
       "    <tr>\n",
       "      <th>Driving_License</th>\n",
       "      <td>0.018374</td>\n",
       "      <td>-0.079782</td>\n",
       "      <td>1.000000</td>\n",
       "      <td>-0.001081</td>\n",
       "      <td>0.014969</td>\n",
       "      <td>-0.037306</td>\n",
       "      <td>-0.016622</td>\n",
       "      <td>-0.011906</td>\n",
       "      <td>0.043731</td>\n",
       "      <td>-0.000848</td>\n",
       "      <td>0.010155</td>\n",
       "    </tr>\n",
       "    <tr>\n",
       "      <th>Region_Code</th>\n",
       "      <td>-0.000604</td>\n",
       "      <td>0.042574</td>\n",
       "      <td>-0.001081</td>\n",
       "      <td>1.000000</td>\n",
       "      <td>-0.024659</td>\n",
       "      <td>0.043778</td>\n",
       "      <td>0.028235</td>\n",
       "      <td>-0.010588</td>\n",
       "      <td>-0.042420</td>\n",
       "      <td>-0.002750</td>\n",
       "      <td>0.010570</td>\n",
       "    </tr>\n",
       "    <tr>\n",
       "      <th>Previously_Insured</th>\n",
       "      <td>0.081932</td>\n",
       "      <td>-0.254682</td>\n",
       "      <td>0.014969</td>\n",
       "      <td>-0.024659</td>\n",
       "      <td>1.000000</td>\n",
       "      <td>-0.380873</td>\n",
       "      <td>-0.824143</td>\n",
       "      <td>0.004269</td>\n",
       "      <td>0.219381</td>\n",
       "      <td>0.002537</td>\n",
       "      <td>-0.341170</td>\n",
       "    </tr>\n",
       "    <tr>\n",
       "      <th>Vehicle_Age</th>\n",
       "      <td>-0.160427</td>\n",
       "      <td>0.765790</td>\n",
       "      <td>-0.037306</td>\n",
       "      <td>0.043778</td>\n",
       "      <td>-0.380873</td>\n",
       "      <td>1.000000</td>\n",
       "      <td>0.396873</td>\n",
       "      <td>0.041580</td>\n",
       "      <td>-0.550663</td>\n",
       "      <td>-0.001892</td>\n",
       "      <td>0.221874</td>\n",
       "    </tr>\n",
       "    <tr>\n",
       "      <th>Vehicle_Damage</th>\n",
       "      <td>-0.091606</td>\n",
       "      <td>0.267534</td>\n",
       "      <td>-0.016622</td>\n",
       "      <td>0.028235</td>\n",
       "      <td>-0.824143</td>\n",
       "      <td>0.396873</td>\n",
       "      <td>1.000000</td>\n",
       "      <td>0.009349</td>\n",
       "      <td>-0.224377</td>\n",
       "      <td>-0.002064</td>\n",
       "      <td>0.354400</td>\n",
       "    </tr>\n",
       "    <tr>\n",
       "      <th>Annual_Premium</th>\n",
       "      <td>-0.003673</td>\n",
       "      <td>0.067507</td>\n",
       "      <td>-0.011906</td>\n",
       "      <td>-0.010588</td>\n",
       "      <td>0.004269</td>\n",
       "      <td>0.041580</td>\n",
       "      <td>0.009349</td>\n",
       "      <td>1.000000</td>\n",
       "      <td>-0.113247</td>\n",
       "      <td>-0.000608</td>\n",
       "      <td>0.022575</td>\n",
       "    </tr>\n",
       "    <tr>\n",
       "      <th>Policy_Sales_Channel</th>\n",
       "      <td>0.111159</td>\n",
       "      <td>-0.577826</td>\n",
       "      <td>0.043731</td>\n",
       "      <td>-0.042420</td>\n",
       "      <td>0.219381</td>\n",
       "      <td>-0.550663</td>\n",
       "      <td>-0.224377</td>\n",
       "      <td>-0.113247</td>\n",
       "      <td>1.000000</td>\n",
       "      <td>0.000002</td>\n",
       "      <td>-0.139042</td>\n",
       "    </tr>\n",
       "    <tr>\n",
       "      <th>Vintage</th>\n",
       "      <td>0.002517</td>\n",
       "      <td>-0.001264</td>\n",
       "      <td>-0.000848</td>\n",
       "      <td>-0.002750</td>\n",
       "      <td>0.002537</td>\n",
       "      <td>-0.001892</td>\n",
       "      <td>-0.002064</td>\n",
       "      <td>-0.000608</td>\n",
       "      <td>0.000002</td>\n",
       "      <td>1.000000</td>\n",
       "      <td>-0.001050</td>\n",
       "    </tr>\n",
       "    <tr>\n",
       "      <th>Response</th>\n",
       "      <td>-0.052440</td>\n",
       "      <td>0.111147</td>\n",
       "      <td>0.010155</td>\n",
       "      <td>0.010570</td>\n",
       "      <td>-0.341170</td>\n",
       "      <td>0.221874</td>\n",
       "      <td>0.354400</td>\n",
       "      <td>0.022575</td>\n",
       "      <td>-0.139042</td>\n",
       "      <td>-0.001050</td>\n",
       "      <td>1.000000</td>\n",
       "    </tr>\n",
       "  </tbody>\n",
       "</table>\n",
       "</div>"
      ],
      "text/plain": [
       "                        Gender       Age  Driving_License  Region_Code  \\\n",
       "Gender                1.000000 -0.145545         0.018374    -0.000604   \n",
       "Age                  -0.145545  1.000000        -0.079782     0.042574   \n",
       "Driving_License       0.018374 -0.079782         1.000000    -0.001081   \n",
       "Region_Code          -0.000604  0.042574        -0.001081     1.000000   \n",
       "Previously_Insured    0.081932 -0.254682         0.014969    -0.024659   \n",
       "Vehicle_Age          -0.160427  0.765790        -0.037306     0.043778   \n",
       "Vehicle_Damage       -0.091606  0.267534        -0.016622     0.028235   \n",
       "Annual_Premium       -0.003673  0.067507        -0.011906    -0.010588   \n",
       "Policy_Sales_Channel  0.111159 -0.577826         0.043731    -0.042420   \n",
       "Vintage               0.002517 -0.001264        -0.000848    -0.002750   \n",
       "Response             -0.052440  0.111147         0.010155     0.010570   \n",
       "\n",
       "                      Previously_Insured  Vehicle_Age  Vehicle_Damage  \\\n",
       "Gender                          0.081932    -0.160427       -0.091606   \n",
       "Age                            -0.254682     0.765790        0.267534   \n",
       "Driving_License                 0.014969    -0.037306       -0.016622   \n",
       "Region_Code                    -0.024659     0.043778        0.028235   \n",
       "Previously_Insured              1.000000    -0.380873       -0.824143   \n",
       "Vehicle_Age                    -0.380873     1.000000        0.396873   \n",
       "Vehicle_Damage                 -0.824143     0.396873        1.000000   \n",
       "Annual_Premium                  0.004269     0.041580        0.009349   \n",
       "Policy_Sales_Channel            0.219381    -0.550663       -0.224377   \n",
       "Vintage                         0.002537    -0.001892       -0.002064   \n",
       "Response                       -0.341170     0.221874        0.354400   \n",
       "\n",
       "                      Annual_Premium  Policy_Sales_Channel   Vintage  Response  \n",
       "Gender                     -0.003673              0.111159  0.002517 -0.052440  \n",
       "Age                         0.067507             -0.577826 -0.001264  0.111147  \n",
       "Driving_License            -0.011906              0.043731 -0.000848  0.010155  \n",
       "Region_Code                -0.010588             -0.042420 -0.002750  0.010570  \n",
       "Previously_Insured          0.004269              0.219381  0.002537 -0.341170  \n",
       "Vehicle_Age                 0.041580             -0.550663 -0.001892  0.221874  \n",
       "Vehicle_Damage              0.009349             -0.224377 -0.002064  0.354400  \n",
       "Annual_Premium              1.000000             -0.113247 -0.000608  0.022575  \n",
       "Policy_Sales_Channel       -0.113247              1.000000  0.000002 -0.139042  \n",
       "Vintage                    -0.000608              0.000002  1.000000 -0.001050  \n",
       "Response                    0.022575             -0.139042 -0.001050  1.000000  "
      ]
     },
     "execution_count": 154,
     "metadata": {},
     "output_type": "execute_result"
    }
   ],
   "source": [
    "train.corr()\n",
    "## terlihat dari tabel korelasi bahwa :\n",
    "## age memiliki pengaruh cukup tinggi, \n",
    "## gender memiliki pengarung negatif,dan cendurung kecil\n",
    "## driving_license pengaruhnya cendurung kecil, begitu juga region_code\n",
    "## kemudian kepemilikan asuransi kendaraan memiliki pengaruh negatif(tegak lurus) dengan response\n",
    "## kemudian Vehicle_Damage memiliki peran yang cendrung lebih tinggi dibanding feature yang lain\n",
    "## untuk annual_premium, policy_sales_channel dan umur kendaraan juga cenderung kecil pengaruhnya.\n",
    "## umur kendaraan juga memiliki pengaruh yang lumayan signifikan dibanding yang lain"
   ]
  },
  {
   "cell_type": "code",
   "execution_count": 155,
   "metadata": {},
   "outputs": [
    {
     "data": {
      "text/html": [
       "<div>\n",
       "<style scoped>\n",
       "    .dataframe tbody tr th:only-of-type {\n",
       "        vertical-align: middle;\n",
       "    }\n",
       "\n",
       "    .dataframe tbody tr th {\n",
       "        vertical-align: top;\n",
       "    }\n",
       "\n",
       "    .dataframe thead th {\n",
       "        text-align: right;\n",
       "    }\n",
       "</style>\n",
       "<table border=\"1\" class=\"dataframe\">\n",
       "  <thead>\n",
       "    <tr style=\"text-align: right;\">\n",
       "      <th></th>\n",
       "      <th>Response</th>\n",
       "    </tr>\n",
       "    <tr>\n",
       "      <th>Age_bin</th>\n",
       "      <th></th>\n",
       "    </tr>\n",
       "  </thead>\n",
       "  <tbody>\n",
       "    <tr>\n",
       "      <th>Tua</th>\n",
       "      <td>19.580852</td>\n",
       "    </tr>\n",
       "    <tr>\n",
       "      <th>Pensiunan</th>\n",
       "      <td>10.170037</td>\n",
       "    </tr>\n",
       "    <tr>\n",
       "      <th>Dewasa</th>\n",
       "      <td>8.844918</td>\n",
       "    </tr>\n",
       "    <tr>\n",
       "      <th>Manula</th>\n",
       "      <td>6.668906</td>\n",
       "    </tr>\n",
       "  </tbody>\n",
       "</table>\n",
       "</div>"
      ],
      "text/plain": [
       "            Response\n",
       "Age_bin             \n",
       "Tua        19.580852\n",
       "Pensiunan  10.170037\n",
       "Dewasa      8.844918\n",
       "Manula      6.668906"
      ]
     },
     "execution_count": 155,
     "metadata": {},
     "output_type": "execute_result"
    }
   ],
   "source": [
    "(((train[[\"Age_bin\",\"Response\"]].groupby([\"Age_bin\"])).mean())*100).sort_values(by=\"Response\",ascending=False).head()\n",
    "## dapat dilihat yang memiliki ketertaikan paling tinggi jika dilihat dari age_bin adalah kalangan berusia 20-40"
   ]
  },
  {
   "cell_type": "code",
   "execution_count": 156,
   "metadata": {},
   "outputs": [
    {
     "data": {
      "image/png": "[encoded data removed]",
      "text/plain": [
       "<Figure size 720x360 with 1 Axes>"
      ]
     },
     "metadata": {
      "needs_background": "light"
     },
     "output_type": "display_data"
    }
   ],
   "source": [
    "plt.figure(figsize=(10,5))\n",
    "fig = sns.countplot(x=train['Age_bin'], hue=train['Response'], palette=\"hls\")\n",
    "fig.set_xticklabels(fig.get_xticklabels(),rotation=90)\n",
    "plt.show(fig)\n",
    "## dapat dilihat untuk kolom interested, terbukti golongan TUA, lebih tertarik\n",
    "## golongan dewasa justru tidak tertariknya mendominasi"
   ]
  },
  {
   "cell_type": "code",
   "execution_count": 157,
   "metadata": {},
   "outputs": [
    {
     "data": {
      "text/html": [
       "<div>\n",
       "<style scoped>\n",
       "    .dataframe tbody tr th:only-of-type {\n",
       "        vertical-align: middle;\n",
       "    }\n",
       "\n",
       "    .dataframe tbody tr th {\n",
       "        vertical-align: top;\n",
       "    }\n",
       "\n",
       "    .dataframe thead th {\n",
       "        text-align: right;\n",
       "    }\n",
       "</style>\n",
       "<table border=\"1\" class=\"dataframe\">\n",
       "  <thead>\n",
       "    <tr style=\"text-align: right;\">\n",
       "      <th></th>\n",
       "      <th>Response</th>\n",
       "    </tr>\n",
       "    <tr>\n",
       "      <th>Gender</th>\n",
       "      <th></th>\n",
       "    </tr>\n",
       "  </thead>\n",
       "  <tbody>\n",
       "    <tr>\n",
       "      <th>0</th>\n",
       "      <td>13.841107</td>\n",
       "    </tr>\n",
       "    <tr>\n",
       "      <th>1</th>\n",
       "      <td>10.390241</td>\n",
       "    </tr>\n",
       "  </tbody>\n",
       "</table>\n",
       "</div>"
      ],
      "text/plain": [
       "         Response\n",
       "Gender           \n",
       "0       13.841107\n",
       "1       10.390241"
      ]
     },
     "execution_count": 157,
     "metadata": {},
     "output_type": "execute_result"
    }
   ],
   "source": [
    "(((train[[\"Gender\",\"Response\"]].groupby([\"Gender\"])).mean())*100).sort_values(by=[\"Response\"],ascending=False).head()\n",
    "## dapat dilihat gender 0(Male), cenderung memiliki kesadaran untuk memperoleh asuransi kendaraan"
   ]
  },
  {
   "cell_type": "code",
   "execution_count": 158,
   "metadata": {},
   "outputs": [
    {
     "data": {
      "image/png": "[encoded data removed]",
      "text/plain": [
       "<Figure size 720x360 with 1 Axes>"
      ]
     },
     "metadata": {
      "needs_background": "light"
     },
     "output_type": "display_data"
    }
   ],
   "source": [
    "plt.figure(figsize=(10,5))\n",
    "fig = sns.countplot(x=train['Gender'], hue=train['Response'], palette=\"hls\")\n",
    "fig.set_xticklabels(fig.get_xticklabels(),rotation=90)\n",
    "plt.show(fig)\n",
    "## Male memang lebih cenderung untuk tertarik"
   ]
  },
  {
   "cell_type": "code",
   "execution_count": 159,
   "metadata": {},
   "outputs": [
    {
     "data": {
      "text/html": [
       "<div>\n",
       "<style scoped>\n",
       "    .dataframe tbody tr th:only-of-type {\n",
       "        vertical-align: middle;\n",
       "    }\n",
       "\n",
       "    .dataframe tbody tr th {\n",
       "        vertical-align: top;\n",
       "    }\n",
       "\n",
       "    .dataframe thead th {\n",
       "        text-align: right;\n",
       "    }\n",
       "</style>\n",
       "<table border=\"1\" class=\"dataframe\">\n",
       "  <thead>\n",
       "    <tr style=\"text-align: right;\">\n",
       "      <th></th>\n",
       "      <th>Response</th>\n",
       "    </tr>\n",
       "    <tr>\n",
       "      <th>Driving_License</th>\n",
       "      <th></th>\n",
       "    </tr>\n",
       "  </thead>\n",
       "  <tbody>\n",
       "    <tr>\n",
       "      <th>1</th>\n",
       "      <td>12.271724</td>\n",
       "    </tr>\n",
       "    <tr>\n",
       "      <th>0</th>\n",
       "      <td>5.049261</td>\n",
       "    </tr>\n",
       "  </tbody>\n",
       "</table>\n",
       "</div>"
      ],
      "text/plain": [
       "                  Response\n",
       "Driving_License           \n",
       "1                12.271724\n",
       "0                 5.049261"
      ]
     },
     "execution_count": 159,
     "metadata": {},
     "output_type": "execute_result"
    }
   ],
   "source": [
    "(((train[[\"Driving_License\",\"Response\"]].groupby([\"Driving_License\"])).mean())*100).sort_values(by=[\"Response\"],ascending=False).head()\n",
    "## orang yang sudah memiliki surat ijin mengemudi cenderung untuk mengasuransikan kendaraan mereka"
   ]
  },
  {
   "cell_type": "code",
   "execution_count": 160,
   "metadata": {},
   "outputs": [
    {
     "data": {
      "image/png": "[encoded data removed]",
      "text/plain": [
       "<Figure size 720x360 with 1 Axes>"
      ]
     },
     "metadata": {
      "needs_background": "light"
     },
     "output_type": "display_data"
    }
   ],
   "source": [
    "plt.figure(figsize=(10,5))\n",
    "fig = sns.countplot(x=train['Driving_License'], hue=train['Response'], palette=\"hls\")\n",
    "fig.set_xticklabels(fig.get_xticklabels(),rotation=90)\n",
    "plt.show(fig)\n",
    "## sesuai tabel diatas, yang sudah memiliki license memang cenderung interested\n",
    "## yang tidak punya license, sangatlah kecil/sedikit, bahkan barplotnya hampir tidak kelihatan\n",
    "## walaupun yang tidak tertarik lebih banyak, jadi kalau untuk yg tertarik, yg punya license lebih banyak daripada yang tidak"
   ]
  },
  {
   "cell_type": "code",
   "execution_count": 161,
   "metadata": {},
   "outputs": [
    {
     "data": {
      "text/html": [
       "<div>\n",
       "<style scoped>\n",
       "    .dataframe tbody tr th:only-of-type {\n",
       "        vertical-align: middle;\n",
       "    }\n",
       "\n",
       "    .dataframe tbody tr th {\n",
       "        vertical-align: top;\n",
       "    }\n",
       "\n",
       "    .dataframe thead th {\n",
       "        text-align: right;\n",
       "    }\n",
       "</style>\n",
       "<table border=\"1\" class=\"dataframe\">\n",
       "  <thead>\n",
       "    <tr style=\"text-align: right;\">\n",
       "      <th></th>\n",
       "      <th>Response</th>\n",
       "    </tr>\n",
       "    <tr>\n",
       "      <th>Previously_Insured</th>\n",
       "      <th></th>\n",
       "    </tr>\n",
       "  </thead>\n",
       "  <tbody>\n",
       "    <tr>\n",
       "      <th>0</th>\n",
       "      <td>22.545416</td>\n",
       "    </tr>\n",
       "    <tr>\n",
       "      <th>1</th>\n",
       "      <td>0.090478</td>\n",
       "    </tr>\n",
       "  </tbody>\n",
       "</table>\n",
       "</div>"
      ],
      "text/plain": [
       "                     Response\n",
       "Previously_Insured           \n",
       "0                   22.545416\n",
       "1                    0.090478"
      ]
     },
     "execution_count": 161,
     "metadata": {},
     "output_type": "execute_result"
    }
   ],
   "source": [
    "(((train[[\"Previously_Insured\",\"Response\"]].groupby(\"Previously_Insured\")).mean())*100).sort_values(by=[\"Response\"],ascending=False).head()\n",
    "## orang yang sudah memiliki asuransi kendaraan sebelumnya, cenderung lebih tinggi kesadarannya untuk melakukan asuransi lagi"
   ]
  },
  {
   "cell_type": "code",
   "execution_count": 162,
   "metadata": {},
   "outputs": [
    {
     "data": {
      "image/png": "[encoded data removed]",
      "text/plain": [
       "<Figure size 720x360 with 1 Axes>"
      ]
     },
     "metadata": {
      "needs_background": "light"
     },
     "output_type": "display_data"
    }
   ],
   "source": [
    "plt.figure(figsize=(10,5))\n",
    "fig = sns.countplot(x=train['Previously_Insured'], hue=train['Response'], palette=\"hls\")\n",
    "fig.set_xticklabels(fig.get_xticklabels(),rotation=90)\n",
    "plt.show(fig)\n",
    "## jumlah tidak tertarik memang sangat mendominasi, namun apabila dilihat yang tertariknya, yang sebelumnya belum\n",
    "## memiliki insurance, cenderung akan lebih tertarik"
   ]
  },
  {
   "cell_type": "code",
   "execution_count": 163,
   "metadata": {},
   "outputs": [
    {
     "data": {
      "text/html": [
       "<div>\n",
       "<style scoped>\n",
       "    .dataframe tbody tr th:only-of-type {\n",
       "        vertical-align: middle;\n",
       "    }\n",
       "\n",
       "    .dataframe tbody tr th {\n",
       "        vertical-align: top;\n",
       "    }\n",
       "\n",
       "    .dataframe thead th {\n",
       "        text-align: right;\n",
       "    }\n",
       "</style>\n",
       "<table border=\"1\" class=\"dataframe\">\n",
       "  <thead>\n",
       "    <tr style=\"text-align: right;\">\n",
       "      <th></th>\n",
       "      <th>Response</th>\n",
       "    </tr>\n",
       "    <tr>\n",
       "      <th>Vehicle_Damage</th>\n",
       "      <th></th>\n",
       "    </tr>\n",
       "  </thead>\n",
       "  <tbody>\n",
       "    <tr>\n",
       "      <th>1</th>\n",
       "      <td>23.765546</td>\n",
       "    </tr>\n",
       "    <tr>\n",
       "      <th>0</th>\n",
       "      <td>0.520414</td>\n",
       "    </tr>\n",
       "  </tbody>\n",
       "</table>\n",
       "</div>"
      ],
      "text/plain": [
       "                 Response\n",
       "Vehicle_Damage           \n",
       "1               23.765546\n",
       "0                0.520414"
      ]
     },
     "execution_count": 163,
     "metadata": {},
     "output_type": "execute_result"
    }
   ],
   "source": [
    "(((train[[\"Vehicle_Damage\",\"Response\"]].groupby([\"Vehicle_Damage\"])).mean())*100).sort_values(by=[\"Response\"],ascending=False).head()\n",
    "# yang kendaraannya sudah pernah terkena damage, cenderung lebih aware akan asuansi kendaraan"
   ]
  },
  {
   "cell_type": "code",
   "execution_count": 164,
   "metadata": {},
   "outputs": [
    {
     "data": {
      "image/png": "[encoded data removed]",
      "text/plain": [
       "<Figure size 720x360 with 1 Axes>"
      ]
     },
     "metadata": {
      "needs_background": "light"
     },
     "output_type": "display_data"
    }
   ],
   "source": [
    "plt.figure(figsize=(10,5))\n",
    "fig = sns.countplot(x=train[\"Vehicle_Damage\"], hue=train['Response'], palette=\"hls\")\n",
    "fig.set_xticklabels(fig.get_xticklabels(),rotation=90)\n",
    "plt.show(fig)\n",
    "## yang memiliki kendaraan yang sebelumnya pernah kena damage, terlihat memang lebih cenderung akan tertarik"
   ]
  },
  {
   "cell_type": "code",
   "execution_count": 165,
   "metadata": {},
   "outputs": [
    {
     "data": {
      "text/html": [
       "<div>\n",
       "<style scoped>\n",
       "    .dataframe tbody tr th:only-of-type {\n",
       "        vertical-align: middle;\n",
       "    }\n",
       "\n",
       "    .dataframe tbody tr th {\n",
       "        vertical-align: top;\n",
       "    }\n",
       "\n",
       "    .dataframe thead th {\n",
       "        text-align: right;\n",
       "    }\n",
       "</style>\n",
       "<table border=\"1\" class=\"dataframe\">\n",
       "  <thead>\n",
       "    <tr style=\"text-align: right;\">\n",
       "      <th></th>\n",
       "      <th>Response</th>\n",
       "    </tr>\n",
       "    <tr>\n",
       "      <th>Vehicle_Age</th>\n",
       "      <th></th>\n",
       "    </tr>\n",
       "  </thead>\n",
       "  <tbody>\n",
       "    <tr>\n",
       "      <th>2</th>\n",
       "      <td>29.374649</td>\n",
       "    </tr>\n",
       "    <tr>\n",
       "      <th>1</th>\n",
       "      <td>17.375547</td>\n",
       "    </tr>\n",
       "    <tr>\n",
       "      <th>0</th>\n",
       "      <td>4.370517</td>\n",
       "    </tr>\n",
       "  </tbody>\n",
       "</table>\n",
       "</div>"
      ],
      "text/plain": [
       "              Response\n",
       "Vehicle_Age           \n",
       "2            29.374649\n",
       "1            17.375547\n",
       "0             4.370517"
      ]
     },
     "execution_count": 165,
     "metadata": {},
     "output_type": "execute_result"
    }
   ],
   "source": [
    "(((train[[\"Vehicle_Age\",\"Response\"]].groupby([\"Vehicle_Age\"])).mean())*100).sort_values(by=[\"Response\"],ascending=False).head()\n",
    "## orang yang umur kendaraannya diatas 2 tahun, cenderung akan mengasuransikan kendaraanya"
   ]
  },
  {
   "cell_type": "code",
   "execution_count": 166,
   "metadata": {},
   "outputs": [
    {
     "data": {
      "image/png": "[encoded data removed]",
      "text/plain": [
       "<Figure size 720x360 with 1 Axes>"
      ]
     },
     "metadata": {
      "needs_background": "light"
     },
     "output_type": "display_data"
    }
   ],
   "source": [
    "plt.figure(figsize=(10,5))\n",
    "fig = sns.countplot(x=train[\"Vehicle_Age\"], hue=train['Response'], palette=\"hls\")\n",
    "fig.set_xticklabels(fig.get_xticklabels(),rotation=90)\n",
    "plt.show(fig)\n",
    "## walaupun dari grafik lebih besar kelas 1\n",
    "## secaraa angka terbukti lebih tinggi kelas 2\n",
    "## karena jumlah kelas 1 memang jauh lebih banyak daripada kelas 2"
   ]
  },
  {
   "cell_type": "code",
   "execution_count": 167,
   "metadata": {},
   "outputs": [
    {
     "data": {
      "text/html": [
       "<div>\n",
       "<style scoped>\n",
       "    .dataframe tbody tr th:only-of-type {\n",
       "        vertical-align: middle;\n",
       "    }\n",
       "\n",
       "    .dataframe tbody tr th {\n",
       "        vertical-align: top;\n",
       "    }\n",
       "\n",
       "    .dataframe thead th {\n",
       "        text-align: right;\n",
       "    }\n",
       "</style>\n",
       "<table border=\"1\" class=\"dataframe\">\n",
       "  <thead>\n",
       "    <tr style=\"text-align: right;\">\n",
       "      <th></th>\n",
       "      <th>Response</th>\n",
       "    </tr>\n",
       "    <tr>\n",
       "      <th>Region_Code</th>\n",
       "      <th></th>\n",
       "    </tr>\n",
       "  </thead>\n",
       "  <tbody>\n",
       "    <tr>\n",
       "      <th>38.0</th>\n",
       "      <td>19.200395</td>\n",
       "    </tr>\n",
       "    <tr>\n",
       "      <th>28.0</th>\n",
       "      <td>18.716346</td>\n",
       "    </tr>\n",
       "    <tr>\n",
       "      <th>19.0</th>\n",
       "      <td>16.286645</td>\n",
       "    </tr>\n",
       "    <tr>\n",
       "      <th>4.0</th>\n",
       "      <td>15.824542</td>\n",
       "    </tr>\n",
       "    <tr>\n",
       "      <th>23.0</th>\n",
       "      <td>15.306122</td>\n",
       "    </tr>\n",
       "  </tbody>\n",
       "</table>\n",
       "</div>"
      ],
      "text/plain": [
       "              Response\n",
       "Region_Code           \n",
       "38.0         19.200395\n",
       "28.0         18.716346\n",
       "19.0         16.286645\n",
       "4.0          15.824542\n",
       "23.0         15.306122"
      ]
     },
     "execution_count": 167,
     "metadata": {},
     "output_type": "execute_result"
    }
   ],
   "source": [
    "(((train[[\"Region_Code\",\"Response\"]].groupby([\"Region_Code\"])).mean())*100).sort_values(by=[\"Response\"],ascending=False).head()\n",
    "## penduduk wilayah dengan code 38 cenderung lebih aware akan asuransi kendaraan"
   ]
  },
  {
   "cell_type": "code",
   "execution_count": 168,
   "metadata": {},
   "outputs": [
    {
     "data": {
      "image/png": "[encoded data removed]",
      "text/plain": [
       "<Figure size 1080x720 with 1 Axes>"
      ]
     },
     "metadata": {
      "needs_background": "light"
     },
     "output_type": "display_data"
    }
   ],
   "source": [
    "plt.figure(figsize=(15,10))\n",
    "fig = sns.countplot(x=train[\"Region_Code\"], hue=train['Response'], palette=\"hls\")\n",
    "fig.set_xticklabels(fig.get_xticklabels(),rotation=90)\n",
    "plt.show(fig)\n",
    "## region dengan jumlah tertarik terbanyak adalah 28, namun bisa dilihat bahwa tidak tertariknya juga sangat banyak\n",
    "## sehingga dapat disimpulkan, memang penduduknya sangat banyak, kemudian apabila dalam presentase\n",
    "## bisa dilihat 28 masih di bawah 38, walaupun ternyata kalau dilihat diplot 28 mendominasi\n",
    "## tapi segi presentase ketertarikan, 38 menunjukan angka yaang lebih tinggi."
   ]
  },
  {
   "cell_type": "code",
   "execution_count": 169,
   "metadata": {},
   "outputs": [
    {
     "data": {
      "text/html": [
       "<div>\n",
       "<style scoped>\n",
       "    .dataframe tbody tr th:only-of-type {\n",
       "        vertical-align: middle;\n",
       "    }\n",
       "\n",
       "    .dataframe tbody tr th {\n",
       "        vertical-align: top;\n",
       "    }\n",
       "\n",
       "    .dataframe thead th {\n",
       "        text-align: right;\n",
       "    }\n",
       "</style>\n",
       "<table border=\"1\" class=\"dataframe\">\n",
       "  <thead>\n",
       "    <tr style=\"text-align: right;\">\n",
       "      <th></th>\n",
       "      <th>Gender</th>\n",
       "      <th>Age</th>\n",
       "      <th>Driving_License</th>\n",
       "      <th>Region_Code</th>\n",
       "      <th>Previously_Insured</th>\n",
       "      <th>Vehicle_Age</th>\n",
       "      <th>Vehicle_Damage</th>\n",
       "      <th>Annual_Premium</th>\n",
       "      <th>Policy_Sales_Channel</th>\n",
       "      <th>Vintage</th>\n",
       "      <th>Response</th>\n",
       "      <th>Age_bin</th>\n",
       "    </tr>\n",
       "    <tr>\n",
       "      <th>id</th>\n",
       "      <th></th>\n",
       "      <th></th>\n",
       "      <th></th>\n",
       "      <th></th>\n",
       "      <th></th>\n",
       "      <th></th>\n",
       "      <th></th>\n",
       "      <th></th>\n",
       "      <th></th>\n",
       "      <th></th>\n",
       "      <th></th>\n",
       "      <th></th>\n",
       "    </tr>\n",
       "  </thead>\n",
       "  <tbody>\n",
       "    <tr>\n",
       "      <th>1</th>\n",
       "      <td>0</td>\n",
       "      <td>44</td>\n",
       "      <td>1</td>\n",
       "      <td>28.0</td>\n",
       "      <td>0</td>\n",
       "      <td>2</td>\n",
       "      <td>1</td>\n",
       "      <td>40454.0</td>\n",
       "      <td>26.0</td>\n",
       "      <td>217</td>\n",
       "      <td>1</td>\n",
       "      <td>Tua</td>\n",
       "    </tr>\n",
       "    <tr>\n",
       "      <th>2</th>\n",
       "      <td>0</td>\n",
       "      <td>76</td>\n",
       "      <td>1</td>\n",
       "      <td>3.0</td>\n",
       "      <td>0</td>\n",
       "      <td>1</td>\n",
       "      <td>0</td>\n",
       "      <td>33536.0</td>\n",
       "      <td>26.0</td>\n",
       "      <td>183</td>\n",
       "      <td>0</td>\n",
       "      <td>Manula</td>\n",
       "    </tr>\n",
       "    <tr>\n",
       "      <th>3</th>\n",
       "      <td>0</td>\n",
       "      <td>47</td>\n",
       "      <td>1</td>\n",
       "      <td>28.0</td>\n",
       "      <td>0</td>\n",
       "      <td>2</td>\n",
       "      <td>1</td>\n",
       "      <td>38294.0</td>\n",
       "      <td>26.0</td>\n",
       "      <td>27</td>\n",
       "      <td>1</td>\n",
       "      <td>Tua</td>\n",
       "    </tr>\n",
       "    <tr>\n",
       "      <th>4</th>\n",
       "      <td>0</td>\n",
       "      <td>21</td>\n",
       "      <td>1</td>\n",
       "      <td>11.0</td>\n",
       "      <td>1</td>\n",
       "      <td>0</td>\n",
       "      <td>0</td>\n",
       "      <td>28619.0</td>\n",
       "      <td>152.0</td>\n",
       "      <td>203</td>\n",
       "      <td>0</td>\n",
       "      <td>Dewasa</td>\n",
       "    </tr>\n",
       "    <tr>\n",
       "      <th>5</th>\n",
       "      <td>1</td>\n",
       "      <td>29</td>\n",
       "      <td>1</td>\n",
       "      <td>41.0</td>\n",
       "      <td>1</td>\n",
       "      <td>0</td>\n",
       "      <td>0</td>\n",
       "      <td>27496.0</td>\n",
       "      <td>152.0</td>\n",
       "      <td>39</td>\n",
       "      <td>0</td>\n",
       "      <td>Dewasa</td>\n",
       "    </tr>\n",
       "  </tbody>\n",
       "</table>\n",
       "</div>"
      ],
      "text/plain": [
       "    Gender  Age  Driving_License  Region_Code  Previously_Insured  \\\n",
       "id                                                                  \n",
       "1        0   44                1         28.0                   0   \n",
       "2        0   76                1          3.0                   0   \n",
       "3        0   47                1         28.0                   0   \n",
       "4        0   21                1         11.0                   1   \n",
       "5        1   29                1         41.0                   1   \n",
       "\n",
       "    Vehicle_Age  Vehicle_Damage  Annual_Premium  Policy_Sales_Channel  \\\n",
       "id                                                                      \n",
       "1             2               1         40454.0                  26.0   \n",
       "2             1               0         33536.0                  26.0   \n",
       "3             2               1         38294.0                  26.0   \n",
       "4             0               0         28619.0                 152.0   \n",
       "5             0               0         27496.0                 152.0   \n",
       "\n",
       "    Vintage  Response Age_bin  \n",
       "id                             \n",
       "1       217         1     Tua  \n",
       "2       183         0  Manula  \n",
       "3        27         1     Tua  \n",
       "4       203         0  Dewasa  \n",
       "5        39         0  Dewasa  "
      ]
     },
     "execution_count": 169,
     "metadata": {},
     "output_type": "execute_result"
    }
   ],
   "source": [
    "train.head()"
   ]
  },
  {
   "cell_type": "markdown",
   "metadata": {},
   "source": [
    "# EVALUATION MATRIX "
   ]
  },
  {
   "cell_type": "code",
   "execution_count": 4,
   "metadata": {},
   "outputs": [],
   "source": [
    "from sklearn.model_selection import train_test_split,GridSearchCV\n",
    "from sklearn.linear_model import LogisticRegression\n",
    "from sklearn.metrics import classification_report,confusion_matrix,recall_score,precision_score,accuracy_score,f1_score\n",
    "from sklearn.neighbors import KNeighborsClassifier\n",
    "from sklearn.tree import DecisionTreeClassifier\n",
    "from sklearn.ensemble import RandomForestClassifier\n",
    "from sklearn.utils import resample"
   ]
  },
  {
   "cell_type": "markdown",
   "metadata": {},
   "source": [
    "## HANDLING IMBALANCE DATA"
   ]
  },
  {
   "cell_type": "markdown",
   "metadata": {},
   "source": [
    "### RANDOM OVER SAMPLING"
   ]
  },
  {
   "cell_type": "code",
   "execution_count": 5,
   "metadata": {},
   "outputs": [
    {
     "data": {
      "text/plain": [
       "0    87.74\n",
       "1    12.26\n",
       "Name: Response, dtype: float64"
      ]
     },
     "execution_count": 5,
     "metadata": {},
     "output_type": "execute_result"
    }
   ],
   "source": [
    "(train['Response'].value_counts()/len(train)*100).round(2)"
   ]
  },
  {
   "cell_type": "code",
   "execution_count": 6,
   "metadata": {},
   "outputs": [],
   "source": [
    "interested = train[train[\"Response\"] == 1]\n",
    "not_interested = train[train[\"Response\"]== 0] "
   ]
  },
  {
   "cell_type": "code",
   "execution_count": 7,
   "metadata": {},
   "outputs": [],
   "source": [
    "interested_oversample = resample(interested, ## kelas minority\n",
    "                           replace = True,\n",
    "                           n_samples = len(not_interested), ## jumlah dari kelas majority\n",
    "                           random_state = 42)"
   ]
  },
  {
   "cell_type": "code",
   "execution_count": 8,
   "metadata": {},
   "outputs": [],
   "source": [
    "df_new = pd.concat([not_interested,interested_oversample])"
   ]
  },
  {
   "cell_type": "code",
   "execution_count": 9,
   "metadata": {},
   "outputs": [
    {
     "data": {
      "text/plain": [
       "1    50.0\n",
       "0    50.0\n",
       "Name: Response, dtype: float64"
      ]
     },
     "execution_count": 9,
     "metadata": {},
     "output_type": "execute_result"
    }
   ],
   "source": [
    "(df_new['Response'].value_counts()/len(df_new)*100).round(2)"
   ]
  },
  {
   "cell_type": "code",
   "execution_count": 177,
   "metadata": {},
   "outputs": [
    {
     "data": {
      "text/html": [
       "<div>\n",
       "<style scoped>\n",
       "    .dataframe tbody tr th:only-of-type {\n",
       "        vertical-align: middle;\n",
       "    }\n",
       "\n",
       "    .dataframe tbody tr th {\n",
       "        vertical-align: top;\n",
       "    }\n",
       "\n",
       "    .dataframe thead th {\n",
       "        text-align: right;\n",
       "    }\n",
       "</style>\n",
       "<table border=\"1\" class=\"dataframe\">\n",
       "  <thead>\n",
       "    <tr style=\"text-align: right;\">\n",
       "      <th></th>\n",
       "      <th>Gender</th>\n",
       "      <th>Age</th>\n",
       "      <th>Driving_License</th>\n",
       "      <th>Region_Code</th>\n",
       "      <th>Previously_Insured</th>\n",
       "      <th>Vehicle_Age</th>\n",
       "      <th>Vehicle_Damage</th>\n",
       "      <th>Annual_Premium</th>\n",
       "      <th>Policy_Sales_Channel</th>\n",
       "      <th>Vintage</th>\n",
       "      <th>Response</th>\n",
       "      <th>Age_bin</th>\n",
       "    </tr>\n",
       "    <tr>\n",
       "      <th>id</th>\n",
       "      <th></th>\n",
       "      <th></th>\n",
       "      <th></th>\n",
       "      <th></th>\n",
       "      <th></th>\n",
       "      <th></th>\n",
       "      <th></th>\n",
       "      <th></th>\n",
       "      <th></th>\n",
       "      <th></th>\n",
       "      <th></th>\n",
       "      <th></th>\n",
       "    </tr>\n",
       "  </thead>\n",
       "  <tbody>\n",
       "    <tr>\n",
       "      <th>2</th>\n",
       "      <td>0</td>\n",
       "      <td>76</td>\n",
       "      <td>1</td>\n",
       "      <td>3.0</td>\n",
       "      <td>0</td>\n",
       "      <td>1</td>\n",
       "      <td>0</td>\n",
       "      <td>33536.0</td>\n",
       "      <td>26.0</td>\n",
       "      <td>183</td>\n",
       "      <td>0</td>\n",
       "      <td>Manula</td>\n",
       "    </tr>\n",
       "    <tr>\n",
       "      <th>4</th>\n",
       "      <td>0</td>\n",
       "      <td>21</td>\n",
       "      <td>1</td>\n",
       "      <td>11.0</td>\n",
       "      <td>1</td>\n",
       "      <td>0</td>\n",
       "      <td>0</td>\n",
       "      <td>28619.0</td>\n",
       "      <td>152.0</td>\n",
       "      <td>203</td>\n",
       "      <td>0</td>\n",
       "      <td>Dewasa</td>\n",
       "    </tr>\n",
       "    <tr>\n",
       "      <th>5</th>\n",
       "      <td>1</td>\n",
       "      <td>29</td>\n",
       "      <td>1</td>\n",
       "      <td>41.0</td>\n",
       "      <td>1</td>\n",
       "      <td>0</td>\n",
       "      <td>0</td>\n",
       "      <td>27496.0</td>\n",
       "      <td>152.0</td>\n",
       "      <td>39</td>\n",
       "      <td>0</td>\n",
       "      <td>Dewasa</td>\n",
       "    </tr>\n",
       "    <tr>\n",
       "      <th>6</th>\n",
       "      <td>1</td>\n",
       "      <td>24</td>\n",
       "      <td>1</td>\n",
       "      <td>33.0</td>\n",
       "      <td>0</td>\n",
       "      <td>0</td>\n",
       "      <td>1</td>\n",
       "      <td>2630.0</td>\n",
       "      <td>160.0</td>\n",
       "      <td>176</td>\n",
       "      <td>0</td>\n",
       "      <td>Dewasa</td>\n",
       "    </tr>\n",
       "    <tr>\n",
       "      <th>7</th>\n",
       "      <td>0</td>\n",
       "      <td>23</td>\n",
       "      <td>1</td>\n",
       "      <td>11.0</td>\n",
       "      <td>0</td>\n",
       "      <td>0</td>\n",
       "      <td>1</td>\n",
       "      <td>23367.0</td>\n",
       "      <td>152.0</td>\n",
       "      <td>249</td>\n",
       "      <td>0</td>\n",
       "      <td>Dewasa</td>\n",
       "    </tr>\n",
       "    <tr>\n",
       "      <th>...</th>\n",
       "      <td>...</td>\n",
       "      <td>...</td>\n",
       "      <td>...</td>\n",
       "      <td>...</td>\n",
       "      <td>...</td>\n",
       "      <td>...</td>\n",
       "      <td>...</td>\n",
       "      <td>...</td>\n",
       "      <td>...</td>\n",
       "      <td>...</td>\n",
       "      <td>...</td>\n",
       "      <td>...</td>\n",
       "    </tr>\n",
       "    <tr>\n",
       "      <th>13833</th>\n",
       "      <td>0</td>\n",
       "      <td>49</td>\n",
       "      <td>1</td>\n",
       "      <td>32.0</td>\n",
       "      <td>0</td>\n",
       "      <td>1</td>\n",
       "      <td>1</td>\n",
       "      <td>28868.0</td>\n",
       "      <td>124.0</td>\n",
       "      <td>105</td>\n",
       "      <td>1</td>\n",
       "      <td>Tua</td>\n",
       "    </tr>\n",
       "    <tr>\n",
       "      <th>373124</th>\n",
       "      <td>1</td>\n",
       "      <td>57</td>\n",
       "      <td>1</td>\n",
       "      <td>3.0</td>\n",
       "      <td>0</td>\n",
       "      <td>2</td>\n",
       "      <td>1</td>\n",
       "      <td>28179.0</td>\n",
       "      <td>124.0</td>\n",
       "      <td>171</td>\n",
       "      <td>1</td>\n",
       "      <td>Tua</td>\n",
       "    </tr>\n",
       "    <tr>\n",
       "      <th>100841</th>\n",
       "      <td>0</td>\n",
       "      <td>44</td>\n",
       "      <td>1</td>\n",
       "      <td>28.0</td>\n",
       "      <td>0</td>\n",
       "      <td>1</td>\n",
       "      <td>1</td>\n",
       "      <td>48654.0</td>\n",
       "      <td>26.0</td>\n",
       "      <td>256</td>\n",
       "      <td>1</td>\n",
       "      <td>Tua</td>\n",
       "    </tr>\n",
       "    <tr>\n",
       "      <th>26118</th>\n",
       "      <td>0</td>\n",
       "      <td>41</td>\n",
       "      <td>1</td>\n",
       "      <td>28.0</td>\n",
       "      <td>0</td>\n",
       "      <td>1</td>\n",
       "      <td>1</td>\n",
       "      <td>32028.0</td>\n",
       "      <td>124.0</td>\n",
       "      <td>90</td>\n",
       "      <td>1</td>\n",
       "      <td>Tua</td>\n",
       "    </tr>\n",
       "    <tr>\n",
       "      <th>50410</th>\n",
       "      <td>1</td>\n",
       "      <td>46</td>\n",
       "      <td>1</td>\n",
       "      <td>28.0</td>\n",
       "      <td>0</td>\n",
       "      <td>1</td>\n",
       "      <td>1</td>\n",
       "      <td>39076.0</td>\n",
       "      <td>31.0</td>\n",
       "      <td>164</td>\n",
       "      <td>1</td>\n",
       "      <td>Tua</td>\n",
       "    </tr>\n",
       "  </tbody>\n",
       "</table>\n",
       "<p>668798 rows × 12 columns</p>\n",
       "</div>"
      ],
      "text/plain": [
       "        Gender  Age  Driving_License  Region_Code  Previously_Insured  \\\n",
       "id                                                                      \n",
       "2            0   76                1          3.0                   0   \n",
       "4            0   21                1         11.0                   1   \n",
       "5            1   29                1         41.0                   1   \n",
       "6            1   24                1         33.0                   0   \n",
       "7            0   23                1         11.0                   0   \n",
       "...        ...  ...              ...          ...                 ...   \n",
       "13833        0   49                1         32.0                   0   \n",
       "373124       1   57                1          3.0                   0   \n",
       "100841       0   44                1         28.0                   0   \n",
       "26118        0   41                1         28.0                   0   \n",
       "50410        1   46                1         28.0                   0   \n",
       "\n",
       "        Vehicle_Age  Vehicle_Damage  Annual_Premium  Policy_Sales_Channel  \\\n",
       "id                                                                          \n",
       "2                 1               0         33536.0                  26.0   \n",
       "4                 0               0         28619.0                 152.0   \n",
       "5                 0               0         27496.0                 152.0   \n",
       "6                 0               1          2630.0                 160.0   \n",
       "7                 0               1         23367.0                 152.0   \n",
       "...             ...             ...             ...                   ...   \n",
       "13833             1               1         28868.0                 124.0   \n",
       "373124            2               1         28179.0                 124.0   \n",
       "100841            1               1         48654.0                  26.0   \n",
       "26118             1               1         32028.0                 124.0   \n",
       "50410             1               1         39076.0                  31.0   \n",
       "\n",
       "        Vintage  Response Age_bin  \n",
       "id                                 \n",
       "2           183         0  Manula  \n",
       "4           203         0  Dewasa  \n",
       "5            39         0  Dewasa  \n",
       "6           176         0  Dewasa  \n",
       "7           249         0  Dewasa  \n",
       "...         ...       ...     ...  \n",
       "13833       105         1     Tua  \n",
       "373124      171         1     Tua  \n",
       "100841      256         1     Tua  \n",
       "26118        90         1     Tua  \n",
       "50410       164         1     Tua  \n",
       "\n",
       "[668798 rows x 12 columns]"
      ]
     },
     "execution_count": 177,
     "metadata": {},
     "output_type": "execute_result"
    }
   ],
   "source": [
    "df_new"
   ]
  },
  {
   "cell_type": "code",
   "execution_count": 11,
   "metadata": {},
   "outputs": [],
   "source": [
    "x= df_new.drop(columns=[\"Response\",\"Age_bin\"])\n",
    "y= df_new[\"Response\"]\n",
    "\n",
    "x_train,x_test,y_train,y_test = train_test_split(x,y,train_size=.80,stratify=y,random_state=42)"
   ]
  },
  {
   "cell_type": "markdown",
   "metadata": {},
   "source": [
    "# KNN "
   ]
  },
  {
   "cell_type": "code",
   "execution_count": 38,
   "metadata": {},
   "outputs": [
    {
     "data": {
      "text/plain": [
       "KNeighborsClassifier()"
      ]
     },
     "execution_count": 38,
     "metadata": {},
     "output_type": "execute_result"
    }
   ],
   "source": [
    "model_KNN = KNeighborsClassifier()\n",
    "model_KNN.fit(x_train,y_train)"
   ]
  },
  {
   "cell_type": "code",
   "execution_count": 39,
   "metadata": {},
   "outputs": [],
   "source": [
    "y_KNN_train = model_KNN.predict(x_train)\n",
    "y_KNN_test = model_KNN.predict(x_test)"
   ]
  },
  {
   "cell_type": "code",
   "execution_count": 40,
   "metadata": {},
   "outputs": [],
   "source": [
    "accuracy_KNN_train = accuracy_score(y_train,y_KNN_train)\n",
    "precision_KNN_train = precision_score(y_train,y_KNN_train)\n",
    "recall_KNN_train = recall_score(y_train,y_KNN_train)\n",
    "f1_KNN_train = f1_score(y_train,y_KNN_train)\n",
    "\n",
    "accuracy_KNN_test = accuracy_score(y_test,y_KNN_test)\n",
    "precision_KNN_test = precision_score(y_test,y_KNN_test)\n",
    "recall_KNN_test = recall_score(y_test,y_KNN_test)\n",
    "f1_KNN_test = f1_score(y_test,y_KNN_test)"
   ]
  },
  {
   "cell_type": "code",
   "execution_count": 41,
   "metadata": {},
   "outputs": [
    {
     "name": "stdout",
     "output_type": "stream",
     "text": [
      "EVALUATION MATRIX KNN :\n",
      "Accuracy =  0.8756611679918062  VS  0.8192135167464115\n",
      "Precision =  0.806054921260442  VS  0.7483828183172003\n",
      "Recall =  0.989376455504095  VS  0.9617972488038278\n",
      "F1_Score =  0.888356716117339  VS  0.841773974036851\n"
     ]
    }
   ],
   "source": [
    "print(\"EVALUATION MATRIX KNN :\")\n",
    "print(\"Accuracy = \",accuracy_KNN_train,\" VS \",accuracy_KNN_test)\n",
    "print(\"Precision = \",precision_KNN_train,\" VS \",precision_KNN_test)\n",
    "print(\"Recall = \",recall_KNN_train,\" VS \",recall_KNN_test)\n",
    "print(\"F1_Score = \",f1_KNN_train,\" VS \",f1_KNN_test)"
   ]
  },
  {
   "cell_type": "code",
   "execution_count": 43,
   "metadata": {},
   "outputs": [
    {
     "data": {
      "text/html": [
       "<div>\n",
       "<style scoped>\n",
       "    .dataframe tbody tr th:only-of-type {\n",
       "        vertical-align: middle;\n",
       "    }\n",
       "\n",
       "    .dataframe tbody tr th {\n",
       "        vertical-align: top;\n",
       "    }\n",
       "\n",
       "    .dataframe thead th {\n",
       "        text-align: right;\n",
       "    }\n",
       "</style>\n",
       "<table border=\"1\" class=\"dataframe\">\n",
       "  <thead>\n",
       "    <tr style=\"text-align: right;\">\n",
       "      <th></th>\n",
       "      <th>Pred_1</th>\n",
       "      <th>Pred_0</th>\n",
       "    </tr>\n",
       "  </thead>\n",
       "  <tbody>\n",
       "    <tr>\n",
       "      <th>Aktual_1</th>\n",
       "      <td>64325</td>\n",
       "      <td>2555</td>\n",
       "    </tr>\n",
       "    <tr>\n",
       "      <th>Aktual_0</th>\n",
       "      <td>21627</td>\n",
       "      <td>45253</td>\n",
       "    </tr>\n",
       "  </tbody>\n",
       "</table>\n",
       "</div>"
      ],
      "text/plain": [
       "          Pred_1  Pred_0\n",
       "Aktual_1   64325    2555\n",
       "Aktual_0   21627   45253"
      ]
     },
     "execution_count": 43,
     "metadata": {},
     "output_type": "execute_result"
    }
   ],
   "source": [
    "cm_KNN = confusion_matrix(y_test,y_KNN_test,labels=[1,0])\n",
    "df_cm_KNN = pd.DataFrame(data=cm_KNN,columns=[\"Pred_1\",\"Pred_0\"],index=[\"Aktual_1\",\"Aktual_0\"])\n",
    "df_cm_KNN"
   ]
  },
  {
   "cell_type": "code",
   "execution_count": 44,
   "metadata": {},
   "outputs": [
    {
     "data": {
      "text/plain": [
       "<matplotlib.axes._subplots.AxesSubplot at 0x1eea85f9910>"
      ]
     },
     "execution_count": 44,
     "metadata": {},
     "output_type": "execute_result"
    },
    {
     "data": {
      "image/png": "[encoded data removed]",
      "text/plain": [
       "<Figure size 432x288 with 2 Axes>"
      ]
     },
     "metadata": {
      "needs_background": "light"
     },
     "output_type": "display_data"
    }
   ],
   "source": [
    "sns.heatmap(df_cm_KNN,annot=True)"
   ]
  },
  {
   "cell_type": "markdown",
   "metadata": {},
   "source": [
    "# DECISION TREE"
   ]
  },
  {
   "cell_type": "code",
   "execution_count": 45,
   "metadata": {},
   "outputs": [],
   "source": [
    "DT = DecisionTreeClassifier()"
   ]
  },
  {
   "cell_type": "code",
   "execution_count": 46,
   "metadata": {},
   "outputs": [
    {
     "data": {
      "text/plain": [
       "DecisionTreeClassifier()"
      ]
     },
     "execution_count": 46,
     "metadata": {},
     "output_type": "execute_result"
    }
   ],
   "source": [
    "DT.fit(x_train,y_train)"
   ]
  },
  {
   "cell_type": "code",
   "execution_count": 47,
   "metadata": {},
   "outputs": [],
   "source": [
    "y_DT_train = DT.predict(x_train)\n",
    "y_DT_test = DT.predict(x_test)"
   ]
  },
  {
   "cell_type": "code",
   "execution_count": 48,
   "metadata": {},
   "outputs": [],
   "source": [
    "accuracy_DT_train = accuracy_score(y_train,y_DT_train)\n",
    "precision_DT_train= precision_score(y_train,y_DT_train)\n",
    "recall_DT_train = recall_score(y_train,y_DT_train)\n",
    "f1_DT_train = f1_score(y_train,y_DT_train)\n",
    "\n",
    "accuracy_DT_test = accuracy_score(y_test,y_DT_test)\n",
    "precision_DT_test= precision_score(y_test,y_DT_test)\n",
    "recall_DT_test = recall_score(y_test,y_DT_test)\n",
    "f1_DT_test = f1_score(y_test,y_DT_test)"
   ]
  },
  {
   "cell_type": "code",
   "execution_count": 49,
   "metadata": {},
   "outputs": [
    {
     "name": "stdout",
     "output_type": "stream",
     "text": [
      "EVALUATION MATRIX KNN :\n",
      "Accuracy =  0.9999233699288649  VS  0.9440938995215311\n",
      "Precision =  0.9998504997047369  VS  0.9006826214823409\n",
      "Recall =  0.9999962619477495  VS  0.9982655502392345\n",
      "F1_Score =  0.9999233755141783  VS  0.9469667957391884\n"
     ]
    }
   ],
   "source": [
    "print(\"EVALUATION MATRIX DECISION TREE :\")\n",
    "print(\"Accuracy = \",accuracy_DT_train,\" VS \",accuracy_DT_test)\n",
    "print(\"Precision = \",precision_DT_train,\" VS \",precision_DT_test)\n",
    "print(\"Recall = \",recall_DT_train,\" VS \",recall_DT_test)\n",
    "print(\"F1_Score = \",f1_DT_train,\" VS \",f1_DT_test)"
   ]
  },
  {
   "cell_type": "code",
   "execution_count": 50,
   "metadata": {},
   "outputs": [
    {
     "data": {
      "text/html": [
       "<div>\n",
       "<style scoped>\n",
       "    .dataframe tbody tr th:only-of-type {\n",
       "        vertical-align: middle;\n",
       "    }\n",
       "\n",
       "    .dataframe tbody tr th {\n",
       "        vertical-align: top;\n",
       "    }\n",
       "\n",
       "    .dataframe thead th {\n",
       "        text-align: right;\n",
       "    }\n",
       "</style>\n",
       "<table border=\"1\" class=\"dataframe\">\n",
       "  <thead>\n",
       "    <tr style=\"text-align: right;\">\n",
       "      <th></th>\n",
       "      <th>Pred_1</th>\n",
       "      <th>Pred_0</th>\n",
       "    </tr>\n",
       "  </thead>\n",
       "  <tbody>\n",
       "    <tr>\n",
       "      <th>Aktual_1</th>\n",
       "      <td>66764</td>\n",
       "      <td>116</td>\n",
       "    </tr>\n",
       "    <tr>\n",
       "      <th>Aktual_0</th>\n",
       "      <td>7362</td>\n",
       "      <td>59518</td>\n",
       "    </tr>\n",
       "  </tbody>\n",
       "</table>\n",
       "</div>"
      ],
      "text/plain": [
       "          Pred_1  Pred_0\n",
       "Aktual_1   66764     116\n",
       "Aktual_0    7362   59518"
      ]
     },
     "execution_count": 50,
     "metadata": {},
     "output_type": "execute_result"
    }
   ],
   "source": [
    "cm_DT = confusion_matrix(y_test,y_DT_test,labels=[1,0])\n",
    "df_cm_DT = pd.DataFrame(data=cm_DT,columns=[\"Pred_1\",\"Pred_0\"],index=[\"Aktual_1\",\"Aktual_0\"])\n",
    "df_cm_DT"
   ]
  },
  {
   "cell_type": "code",
   "execution_count": 52,
   "metadata": {},
   "outputs": [
    {
     "data": {
      "text/plain": [
       "<matplotlib.axes._subplots.AxesSubplot at 0x1eeae606700>"
      ]
     },
     "execution_count": 52,
     "metadata": {},
     "output_type": "execute_result"
    },
    {
     "data": {
      "image/png": "[encoded data removed]",
      "text/plain": [
       "<Figure size 432x288 with 2 Axes>"
      ]
     },
     "metadata": {
      "needs_background": "light"
     },
     "output_type": "display_data"
    }
   ],
   "source": [
    "sns.heatmap(df_cm_DT,annot=True)"
   ]
  },
  {
   "cell_type": "markdown",
   "metadata": {},
   "source": [
    "# RANDOM FOREST"
   ]
  },
  {
   "cell_type": "code",
   "execution_count": 53,
   "metadata": {},
   "outputs": [],
   "source": [
    "RF = RandomForestClassifier()"
   ]
  },
  {
   "cell_type": "code",
   "execution_count": 54,
   "metadata": {},
   "outputs": [
    {
     "data": {
      "text/plain": [
       "RandomForestClassifier()"
      ]
     },
     "execution_count": 54,
     "metadata": {},
     "output_type": "execute_result"
    }
   ],
   "source": [
    "RF.fit(x_train,y_train)"
   ]
  },
  {
   "cell_type": "code",
   "execution_count": 55,
   "metadata": {},
   "outputs": [],
   "source": [
    "y_RF_train = RF.predict(x_train)\n",
    "y_RF_test = RF.predict(x_test)"
   ]
  },
  {
   "cell_type": "code",
   "execution_count": 56,
   "metadata": {},
   "outputs": [],
   "source": [
    "accuracy_RF_train = accuracy_score(y_train,y_RF_train)\n",
    "precision_RF_train= precision_score(y_train,y_RF_train)\n",
    "recall_RF_train = recall_score(y_train,y_RF_train)\n",
    "f1_RF_train = f1_score(y_train,y_RF_train)\n",
    "\n",
    "accuracy_RF_test = accuracy_score(y_test,y_RF_test)\n",
    "precision_RF_test= precision_score(y_test,y_RF_test)\n",
    "recall_RF_test = recall_score(y_test,y_RF_test)\n",
    "f1_RF_test = f1_score(y_test,y_RF_test)"
   ]
  },
  {
   "cell_type": "code",
   "execution_count": 57,
   "metadata": {},
   "outputs": [
    {
     "name": "stdout",
     "output_type": "stream",
     "text": [
      "EVALUATION MATRIX RANDOM CLASSIFIER :\n",
      "Accuracy =  0.9999233699288649  VS  0.9494841507177033\n",
      "Precision =  0.9998467633428016  VS  0.9099090500020454\n",
      "Recall =  1.0  VS  0.9977571770334929\n",
      "F1_Score =  0.9999233758005828  VS  0.951810408153077\n"
     ]
    }
   ],
   "source": [
    "print(\"EVALUATION MATRIX RANDOM CLASSIFIER :\")\n",
    "print(\"Accuracy = \",accuracy_RF_train,\" VS \",accuracy_RF_test)\n",
    "print(\"Precision = \",precision_RF_train,\" VS \",precision_RF_test)\n",
    "print(\"Recall = \",recall_RF_train,\" VS \",recall_RF_test)\n",
    "print(\"F1_Score = \",f1_RF_train,\" VS \",f1_RF_test)"
   ]
  },
  {
   "cell_type": "code",
   "execution_count": 58,
   "metadata": {},
   "outputs": [
    {
     "data": {
      "text/html": [
       "<div>\n",
       "<style scoped>\n",
       "    .dataframe tbody tr th:only-of-type {\n",
       "        vertical-align: middle;\n",
       "    }\n",
       "\n",
       "    .dataframe tbody tr th {\n",
       "        vertical-align: top;\n",
       "    }\n",
       "\n",
       "    .dataframe thead th {\n",
       "        text-align: right;\n",
       "    }\n",
       "</style>\n",
       "<table border=\"1\" class=\"dataframe\">\n",
       "  <thead>\n",
       "    <tr style=\"text-align: right;\">\n",
       "      <th></th>\n",
       "      <th>Pred_1</th>\n",
       "      <th>Pred_0</th>\n",
       "    </tr>\n",
       "  </thead>\n",
       "  <tbody>\n",
       "    <tr>\n",
       "      <th>Aktual_1</th>\n",
       "      <td>66730</td>\n",
       "      <td>150</td>\n",
       "    </tr>\n",
       "    <tr>\n",
       "      <th>Aktual_0</th>\n",
       "      <td>6607</td>\n",
       "      <td>60273</td>\n",
       "    </tr>\n",
       "  </tbody>\n",
       "</table>\n",
       "</div>"
      ],
      "text/plain": [
       "          Pred_1  Pred_0\n",
       "Aktual_1   66730     150\n",
       "Aktual_0    6607   60273"
      ]
     },
     "execution_count": 58,
     "metadata": {},
     "output_type": "execute_result"
    }
   ],
   "source": [
    "cm_RF = confusion_matrix(y_test,y_RF_test,labels=[1,0])\n",
    "df_cm_RF = pd.DataFrame(data=cm_RF,columns=[\"Pred_1\",\"Pred_0\"],index=[\"Aktual_1\",\"Aktual_0\"])\n",
    "df_cm_RF"
   ]
  },
  {
   "cell_type": "code",
   "execution_count": 60,
   "metadata": {},
   "outputs": [
    {
     "data": {
      "text/plain": [
       "<matplotlib.axes._subplots.AxesSubplot at 0x1eeaeffaee0>"
      ]
     },
     "execution_count": 60,
     "metadata": {},
     "output_type": "execute_result"
    },
    {
     "data": {
      "image/png": "[encoded data removed]",
      "text/plain": [
       "<Figure size 432x288 with 2 Axes>"
      ]
     },
     "metadata": {
      "needs_background": "light"
     },
     "output_type": "display_data"
    }
   ],
   "source": [
    "sns.heatmap(df_cm_RF,annot=True)"
   ]
  },
  {
   "cell_type": "markdown",
   "metadata": {},
   "source": [
    "# ----------- HYPER PARAMETER TUNING ----------------"
   ]
  },
  {
   "cell_type": "markdown",
   "metadata": {},
   "source": [
    "# KNN TUNED"
   ]
  },
  {
   "cell_type": "code",
   "execution_count": 61,
   "metadata": {},
   "outputs": [],
   "source": [
    "KNN_Tuned = KNeighborsClassifier()"
   ]
  },
  {
   "cell_type": "code",
   "execution_count": 62,
   "metadata": {},
   "outputs": [],
   "source": [
    "parameter_KNN = {\n",
    "    \"n_neighbors\" : [5,15],\n",
    "    \"weights\" : [\"uniform\",\"distance\"], ## bobot. uniform ==> semua sama, distance==> setiap jarak bobot beda\n",
    "    \"p\" : [1,2] ## buat method perhitungan jarak, bisa liat di shift+tab , 1 itu apa, 2 itu apa\n",
    "}"
   ]
  },
  {
   "cell_type": "code",
   "execution_count": 63,
   "metadata": {},
   "outputs": [],
   "source": [
    "model_KNN = GridSearchCV(estimator=KNN_Tuned,\n",
    "                         param_grid = parameter_KNN,\n",
    "                         n_jobs = -1, ## jumlah pred yang akan di pake, -1 berarti pake semua\n",
    "                         cv = 5,\n",
    "                         verbose = 1 ## menunjukan apa yang sedang di run, karena banyak\n",
    "                         #scoring = \"precision\"\n",
    "                        )"
   ]
  },
  {
   "cell_type": "code",
   "execution_count": 64,
   "metadata": {},
   "outputs": [
    {
     "name": "stdout",
     "output_type": "stream",
     "text": [
      "Fitting 5 folds for each of 8 candidates, totalling 40 fits\n"
     ]
    },
    {
     "name": "stderr",
     "output_type": "stream",
     "text": [
      "[Parallel(n_jobs=-1)]: Using backend LokyBackend with 8 concurrent workers.\n",
      "[Parallel(n_jobs=-1)]: Done  40 out of  40 | elapsed: 10.9min finished\n"
     ]
    },
    {
     "data": {
      "text/plain": [
       "GridSearchCV(cv=5, estimator=KNeighborsClassifier(), n_jobs=-1,\n",
       "             param_grid={'n_neighbors': [5, 15], 'p': [1, 2],\n",
       "                         'weights': ['uniform', 'distance']},\n",
       "             verbose=1)"
      ]
     },
     "execution_count": 64,
     "metadata": {},
     "output_type": "execute_result"
    }
   ],
   "source": [
    "model_KNN.fit(x_train,y_train)"
   ]
  },
  {
   "cell_type": "code",
   "execution_count": 65,
   "metadata": {},
   "outputs": [
    {
     "data": {
      "text/plain": [
       "KNeighborsClassifier(p=1, weights='distance')"
      ]
     },
     "execution_count": 65,
     "metadata": {},
     "output_type": "execute_result"
    }
   ],
   "source": [
    "model_KNN.best_estimator_"
   ]
  },
  {
   "cell_type": "code",
   "execution_count": 66,
   "metadata": {},
   "outputs": [],
   "source": [
    "KNN_Tuned = model_KNN.best_estimator_"
   ]
  },
  {
   "cell_type": "code",
   "execution_count": 67,
   "metadata": {},
   "outputs": [],
   "source": [
    "y_tuned_KNN_train = KNN_Tuned.predict(x_train)\n",
    "y_tuned_KNN_test = KNN_Tuned.predict(x_test)"
   ]
  },
  {
   "cell_type": "code",
   "execution_count": 68,
   "metadata": {},
   "outputs": [],
   "source": [
    "accuracy_tuned_KNN_train  = accuracy_score(y_train,y_tuned_KNN_train)\n",
    "precision_tuned_KNN_train = precision_score(y_train,y_tuned_KNN_train)\n",
    "recall_tuned_KNN_train  = recall_score(y_train,y_tuned_KNN_train)\n",
    "f1_tuned_KNN_train = f1_score(y_train,y_tuned_KNN_train)\n",
    "\n",
    "accuracy_tuned_KNN_test  = accuracy_score(y_test,y_tuned_KNN_test )\n",
    "precision_tuned_KNN_test = precision_score(y_test,y_tuned_KNN_test )\n",
    "recall_tuned_KNN_test  = recall_score(y_test,y_tuned_KNN_test )\n",
    "f1_tuned_KNN_test  = f1_score(y_test,y_tuned_KNN_test )"
   ]
  },
  {
   "cell_type": "code",
   "execution_count": 71,
   "metadata": {},
   "outputs": [
    {
     "name": "stdout",
     "output_type": "stream",
     "text": [
      "EVALUATION MATRIX KNN TUNED :\n",
      "Accuracy =  0.9999233699288649  VS  0.8509943181818181\n",
      "Precision =  0.9998504997047369  VS  0.7711338777301655\n",
      "Recall =  0.9999962619477495  VS  0.9982655502392345\n",
      "F1_Score =  0.9999233755141783  VS  0.87012166116031\n"
     ]
    }
   ],
   "source": [
    "print(\"EVALUATION MATRIX KNN TUNED :\")\n",
    "print(\"Accuracy = \",accuracy_tuned_KNN_train,\" VS \",accuracy_tuned_KNN_test)\n",
    "print(\"Precision = \",precision_tuned_KNN_train,\" VS \",precision_tuned_KNN_test)\n",
    "print(\"Recall = \",recall_tuned_KNN_train,\" VS \",recall_tuned_KNN_test)\n",
    "print(\"F1_Score = \",f1_tuned_KNN_train,\" VS \",f1_tuned_KNN_test)"
   ]
  },
  {
   "cell_type": "code",
   "execution_count": 72,
   "metadata": {},
   "outputs": [
    {
     "data": {
      "text/html": [
       "<div>\n",
       "<style scoped>\n",
       "    .dataframe tbody tr th:only-of-type {\n",
       "        vertical-align: middle;\n",
       "    }\n",
       "\n",
       "    .dataframe tbody tr th {\n",
       "        vertical-align: top;\n",
       "    }\n",
       "\n",
       "    .dataframe thead th {\n",
       "        text-align: right;\n",
       "    }\n",
       "</style>\n",
       "<table border=\"1\" class=\"dataframe\">\n",
       "  <thead>\n",
       "    <tr style=\"text-align: right;\">\n",
       "      <th></th>\n",
       "      <th>Pred_1</th>\n",
       "      <th>Pred_0</th>\n",
       "    </tr>\n",
       "  </thead>\n",
       "  <tbody>\n",
       "    <tr>\n",
       "      <th>Aktual_1</th>\n",
       "      <td>66764</td>\n",
       "      <td>116</td>\n",
       "    </tr>\n",
       "    <tr>\n",
       "      <th>Aktual_0</th>\n",
       "      <td>19815</td>\n",
       "      <td>47065</td>\n",
       "    </tr>\n",
       "  </tbody>\n",
       "</table>\n",
       "</div>"
      ],
      "text/plain": [
       "          Pred_1  Pred_0\n",
       "Aktual_1   66764     116\n",
       "Aktual_0   19815   47065"
      ]
     },
     "execution_count": 72,
     "metadata": {},
     "output_type": "execute_result"
    }
   ],
   "source": [
    "cm_tuned_KNN = confusion_matrix(y_test,y_tuned_KNN_test,labels=[1,0])\n",
    "df_cm_tuned_KNN = pd.DataFrame(data=cm_tuned_KNN,columns=[\"Pred_1\",\"Pred_0\"],index=[\"Aktual_1\",\"Aktual_0\"])\n",
    "df_cm_tuned_KNN"
   ]
  },
  {
   "cell_type": "code",
   "execution_count": 73,
   "metadata": {},
   "outputs": [
    {
     "data": {
      "text/plain": [
       "<matplotlib.axes._subplots.AxesSubplot at 0x1ee8008f850>"
      ]
     },
     "execution_count": 73,
     "metadata": {},
     "output_type": "execute_result"
    },
    {
     "data": {
      "image/png": "[encoded data removed]",
      "text/plain": [
       "<Figure size 432x288 with 2 Axes>"
      ]
     },
     "metadata": {
      "needs_background": "light"
     },
     "output_type": "display_data"
    }
   ],
   "source": [
    "sns.heatmap(df_cm_tuned_KNN,annot=True)"
   ]
  },
  {
   "cell_type": "markdown",
   "metadata": {},
   "source": [
    "# DECISION TREE TUNED"
   ]
  },
  {
   "cell_type": "code",
   "execution_count": 74,
   "metadata": {},
   "outputs": [],
   "source": [
    "DT_tuned = DecisionTreeClassifier()"
   ]
  },
  {
   "cell_type": "code",
   "execution_count": 75,
   "metadata": {},
   "outputs": [],
   "source": [
    "parameter_DT = {\n",
    "    \"max_depth\" : [None,5], ## parameter default WAJIB IKUT!, none default ==> makanya pake\n",
    "    \"min_samples_split\" : [2,9],\n",
    "    \"min_samples_leaf\" : [1,2],\n",
    "    \"max_features\" : [None,.8]\n",
    "}"
   ]
  },
  {
   "cell_type": "code",
   "execution_count": 76,
   "metadata": {},
   "outputs": [],
   "source": [
    "model_DT = GridSearchCV(estimator = DT_tuned,\n",
    "                       param_grid= parameter_DT,\n",
    "                       cv = 3,\n",
    "                       n_jobs = -1,\n",
    "                       verbose=1)"
   ]
  },
  {
   "cell_type": "code",
   "execution_count": 77,
   "metadata": {},
   "outputs": [
    {
     "name": "stdout",
     "output_type": "stream",
     "text": [
      "Fitting 3 folds for each of 16 candidates, totalling 48 fits\n"
     ]
    },
    {
     "name": "stderr",
     "output_type": "stream",
     "text": [
      "[Parallel(n_jobs=-1)]: Using backend LokyBackend with 8 concurrent workers.\n",
      "[Parallel(n_jobs=-1)]: Done  48 out of  48 | elapsed:   27.0s finished\n"
     ]
    },
    {
     "data": {
      "text/plain": [
       "GridSearchCV(cv=3, estimator=DecisionTreeClassifier(), n_jobs=-1,\n",
       "             param_grid={'max_depth': [None, 5], 'max_features': [None, 0.8],\n",
       "                         'min_samples_leaf': [1, 2],\n",
       "                         'min_samples_split': [2, 9]},\n",
       "             verbose=1)"
      ]
     },
     "execution_count": 77,
     "metadata": {},
     "output_type": "execute_result"
    }
   ],
   "source": [
    "model_DT.fit(x_train,y_train)"
   ]
  },
  {
   "cell_type": "code",
   "execution_count": 78,
   "metadata": {},
   "outputs": [
    {
     "data": {
      "text/plain": [
       "DecisionTreeClassifier(max_features=0.8)"
      ]
     },
     "execution_count": 78,
     "metadata": {},
     "output_type": "execute_result"
    }
   ],
   "source": [
    "model_DT.best_estimator_"
   ]
  },
  {
   "cell_type": "code",
   "execution_count": 79,
   "metadata": {},
   "outputs": [],
   "source": [
    "DT_tuned = model_DT.best_estimator_"
   ]
  },
  {
   "cell_type": "code",
   "execution_count": 80,
   "metadata": {},
   "outputs": [],
   "source": [
    "y_tuned_DT_train = DT_tuned.predict(x_train)\n",
    "y_tuned_DT_test = DT_tuned.predict(x_test)"
   ]
  },
  {
   "cell_type": "code",
   "execution_count": 81,
   "metadata": {},
   "outputs": [],
   "source": [
    "accuracy_tuned_DT_train  = accuracy_score(y_train,y_tuned_DT_train)\n",
    "precision_tuned_DT_train = precision_score(y_train,y_tuned_DT_train)\n",
    "recall_tuned_DT_train  = recall_score(y_train,y_tuned_DT_train )\n",
    "f1_tuned_DT_train  = f1_score(y_train,y_tuned_DT_train )\n",
    "\n",
    "accuracy_tuned_DT_test  = accuracy_score(y_test,y_tuned_DT_test )\n",
    "precision_tuned_DT_test = precision_score(y_test,y_tuned_DT_test )\n",
    "recall_tuned_DT_test  = recall_score(y_test,y_tuned_DT_test )\n",
    "f1_tuned_DT_test  = f1_score(y_test,y_tuned_DT_test )"
   ]
  },
  {
   "cell_type": "code",
   "execution_count": 82,
   "metadata": {},
   "outputs": [
    {
     "name": "stdout",
     "output_type": "stream",
     "text": [
      "EVALUATION MATRIX DECISION TREE TUNED :\n",
      "Accuracy =  0.9999233699288649  VS  0.9447517942583732\n",
      "Precision =  0.9998504997047369  VS  0.9020789964584065\n",
      "Recall =  0.9999962619477495  VS  0.997816985645933\n",
      "F1_Score =  0.9999233755141783  VS  0.9475358162120717\n"
     ]
    }
   ],
   "source": [
    "print(\"EVALUATION MATRIX DECISION TREE TUNED :\")\n",
    "print(\"Accuracy = \",accuracy_tuned_DT_train,\" VS \",accuracy_tuned_DT_test)\n",
    "print(\"Precision = \",precision_tuned_DT_train,\" VS \",precision_tuned_DT_test)\n",
    "print(\"Recall = \",recall_tuned_DT_train,\" VS \",recall_tuned_DT_test)\n",
    "print(\"F1_Score = \",f1_tuned_DT_train,\" VS \",f1_tuned_DT_test)"
   ]
  },
  {
   "cell_type": "code",
   "execution_count": 83,
   "metadata": {},
   "outputs": [
    {
     "data": {
      "text/html": [
       "<div>\n",
       "<style scoped>\n",
       "    .dataframe tbody tr th:only-of-type {\n",
       "        vertical-align: middle;\n",
       "    }\n",
       "\n",
       "    .dataframe tbody tr th {\n",
       "        vertical-align: top;\n",
       "    }\n",
       "\n",
       "    .dataframe thead th {\n",
       "        text-align: right;\n",
       "    }\n",
       "</style>\n",
       "<table border=\"1\" class=\"dataframe\">\n",
       "  <thead>\n",
       "    <tr style=\"text-align: right;\">\n",
       "      <th></th>\n",
       "      <th>Pred_1</th>\n",
       "      <th>Pred_0</th>\n",
       "    </tr>\n",
       "  </thead>\n",
       "  <tbody>\n",
       "    <tr>\n",
       "      <th>Aktual_1</th>\n",
       "      <td>66734</td>\n",
       "      <td>146</td>\n",
       "    </tr>\n",
       "    <tr>\n",
       "      <th>Aktual_0</th>\n",
       "      <td>7244</td>\n",
       "      <td>59636</td>\n",
       "    </tr>\n",
       "  </tbody>\n",
       "</table>\n",
       "</div>"
      ],
      "text/plain": [
       "          Pred_1  Pred_0\n",
       "Aktual_1   66734     146\n",
       "Aktual_0    7244   59636"
      ]
     },
     "execution_count": 83,
     "metadata": {},
     "output_type": "execute_result"
    }
   ],
   "source": [
    "cm_tuned_DT = confusion_matrix(y_test,y_tuned_DT_test,labels=[1,0])\n",
    "df_cm_tuned_DT= pd.DataFrame(data=cm_tuned_DT,columns=[\"Pred_1\",\"Pred_0\"],index=[\"Aktual_1\",\"Aktual_0\"])\n",
    "df_cm_tuned_DT"
   ]
  },
  {
   "cell_type": "code",
   "execution_count": 84,
   "metadata": {},
   "outputs": [
    {
     "data": {
      "text/plain": [
       "<matplotlib.axes._subplots.AxesSubplot at 0x1ee80ad2520>"
      ]
     },
     "execution_count": 84,
     "metadata": {},
     "output_type": "execute_result"
    },
    {
     "data": {
      "image/png": "[encoded data removed]",
      "text/plain": [
       "<Figure size 432x288 with 2 Axes>"
      ]
     },
     "metadata": {
      "needs_background": "light"
     },
     "output_type": "display_data"
    }
   ],
   "source": [
    "sns.heatmap(df_cm_tuned_DT,annot=True)"
   ]
  },
  {
   "cell_type": "markdown",
   "metadata": {},
   "source": [
    "## Random Forest TUNED"
   ]
  },
  {
   "cell_type": "code",
   "execution_count": 85,
   "metadata": {},
   "outputs": [],
   "source": [
    "RF_tuned = RandomForestClassifier()"
   ]
  },
  {
   "cell_type": "code",
   "execution_count": 86,
   "metadata": {},
   "outputs": [],
   "source": [
    "parameter_RF ={\n",
    "    \"n_estimators\" : [100,200],\n",
    "    \"max_depth\" : [None,5], ## parameter default WAJIB IKUT!, none default ==> makanya pake\n",
    "    \"min_samples_split\" : [2,9],\n",
    "    \"min_samples_leaf\" : [1,2],\n",
    "    \"max_features\" : [None,.8]\n",
    "}"
   ]
  },
  {
   "cell_type": "code",
   "execution_count": 87,
   "metadata": {},
   "outputs": [],
   "source": [
    "model_RF = GridSearchCV(estimator = RF_tuned,\n",
    "                       param_grid= parameter_RF,\n",
    "                       cv = 3,\n",
    "                       n_jobs = -1,\n",
    "                       verbose=1)"
   ]
  },
  {
   "cell_type": "code",
   "execution_count": 88,
   "metadata": {},
   "outputs": [
    {
     "name": "stdout",
     "output_type": "stream",
     "text": [
      "Fitting 3 folds for each of 32 candidates, totalling 96 fits\n"
     ]
    },
    {
     "name": "stderr",
     "output_type": "stream",
     "text": [
      "[Parallel(n_jobs=-1)]: Using backend LokyBackend with 8 concurrent workers.\n",
      "[Parallel(n_jobs=-1)]: Done  34 tasks      | elapsed: 52.9min\n",
      "[Parallel(n_jobs=-1)]: Done  96 out of  96 | elapsed: 92.8min finished\n"
     ]
    },
    {
     "data": {
      "text/plain": [
       "GridSearchCV(cv=3, estimator=RandomForestClassifier(), n_jobs=-1,\n",
       "             param_grid={'max_depth': [None, 5], 'max_features': [None, 0.8],\n",
       "                         'min_samples_leaf': [1, 2],\n",
       "                         'min_samples_split': [2, 9],\n",
       "                         'n_estimators': [100, 200]},\n",
       "             verbose=1)"
      ]
     },
     "execution_count": 88,
     "metadata": {},
     "output_type": "execute_result"
    }
   ],
   "source": [
    "model_RF.fit(x_train,y_train)"
   ]
  },
  {
   "cell_type": "code",
   "execution_count": 89,
   "metadata": {},
   "outputs": [
    {
     "data": {
      "text/plain": [
       "RandomForestClassifier(max_features=0.8)"
      ]
     },
     "execution_count": 89,
     "metadata": {},
     "output_type": "execute_result"
    }
   ],
   "source": [
    "model_RF.best_estimator_"
   ]
  },
  {
   "cell_type": "code",
   "execution_count": 90,
   "metadata": {},
   "outputs": [],
   "source": [
    "RF_tuned = model_RF.best_estimator_"
   ]
  },
  {
   "cell_type": "code",
   "execution_count": 91,
   "metadata": {},
   "outputs": [],
   "source": [
    "y_tuned_RF_train = RF_tuned.predict(x_train)\n",
    "y_tuned_RF_test = RF_tuned.predict(x_test)"
   ]
  },
  {
   "cell_type": "code",
   "execution_count": 92,
   "metadata": {},
   "outputs": [],
   "source": [
    "accuracy_tuned_RF_train  = accuracy_score(y_train,y_tuned_RF_train)\n",
    "precision_tuned_RF_train = precision_score(y_train,y_tuned_RF_train)\n",
    "recall_tuned_RF_train  = recall_score(y_train,y_tuned_RF_train )\n",
    "f1_tuned_RF_train  = f1_score(y_train,y_tuned_RF_train )\n",
    "\n",
    "accuracy_tuned_RF_test  = accuracy_score(y_test,y_tuned_RF_test )\n",
    "precision_tuned_RF_test = precision_score(y_test,y_tuned_RF_test )\n",
    "recall_tuned_RF_test  = recall_score(y_test,y_tuned_RF_test )\n",
    "f1_tuned_RF_test  = f1_score(y_test,y_tuned_RF_test )"
   ]
  },
  {
   "cell_type": "code",
   "execution_count": 93,
   "metadata": {},
   "outputs": [
    {
     "name": "stdout",
     "output_type": "stream",
     "text": [
      "EVALUATION MATRIX DECISION TREE TUNED :\n",
      "Accuracy =  0.9999215009027396  VS  0.9501869019138756\n",
      "Precision =  0.9998467627700807  VS  0.9109870459602233\n",
      "Recall =  0.9999962619477495  VS  0.9978767942583732\n",
      "F1_Score =  0.9999215067709755  VS  0.9524543488964528\n"
     ]
    }
   ],
   "source": [
    "print(\"EVALUATION MATRIX DECISION TREE TUNED :\")\n",
    "print(\"Accuracy = \",accuracy_tuned_RF_train,\" VS \",accuracy_tuned_RF_test)\n",
    "print(\"Precision = \",precision_tuned_RF_train,\" VS \",precision_tuned_RF_test)\n",
    "print(\"Recall = \",recall_tuned_RF_train,\" VS \",recall_tuned_RF_test)\n",
    "print(\"F1_Score = \",f1_tuned_RF_train,\" VS \",f1_tuned_RF_test)"
   ]
  },
  {
   "cell_type": "code",
   "execution_count": 95,
   "metadata": {},
   "outputs": [
    {
     "data": {
      "text/html": [
       "<div>\n",
       "<style scoped>\n",
       "    .dataframe tbody tr th:only-of-type {\n",
       "        vertical-align: middle;\n",
       "    }\n",
       "\n",
       "    .dataframe tbody tr th {\n",
       "        vertical-align: top;\n",
       "    }\n",
       "\n",
       "    .dataframe thead th {\n",
       "        text-align: right;\n",
       "    }\n",
       "</style>\n",
       "<table border=\"1\" class=\"dataframe\">\n",
       "  <thead>\n",
       "    <tr style=\"text-align: right;\">\n",
       "      <th></th>\n",
       "      <th>Pred_1</th>\n",
       "      <th>Pred_0</th>\n",
       "    </tr>\n",
       "  </thead>\n",
       "  <tbody>\n",
       "    <tr>\n",
       "      <th>Aktual_1</th>\n",
       "      <td>66738</td>\n",
       "      <td>142</td>\n",
       "    </tr>\n",
       "    <tr>\n",
       "      <th>Aktual_0</th>\n",
       "      <td>6521</td>\n",
       "      <td>60359</td>\n",
       "    </tr>\n",
       "  </tbody>\n",
       "</table>\n",
       "</div>"
      ],
      "text/plain": [
       "          Pred_1  Pred_0\n",
       "Aktual_1   66738     142\n",
       "Aktual_0    6521   60359"
      ]
     },
     "execution_count": 95,
     "metadata": {},
     "output_type": "execute_result"
    }
   ],
   "source": [
    "cm_tuned_RF = confusion_matrix(y_test,y_tuned_RF_test,labels=[1,0])\n",
    "df_cm_tuned_RF= pd.DataFrame(data=cm_tuned_RF,columns=[\"Pred_1\",\"Pred_0\"],index=[\"Aktual_1\",\"Aktual_0\"])\n",
    "df_cm_tuned_RF"
   ]
  },
  {
   "cell_type": "code",
   "execution_count": 96,
   "metadata": {},
   "outputs": [
    {
     "data": {
      "text/plain": [
       "<matplotlib.axes._subplots.AxesSubplot at 0x1ee80ac6850>"
      ]
     },
     "execution_count": 96,
     "metadata": {},
     "output_type": "execute_result"
    },
    {
     "data": {
      "image/png": "[encoded data removed]",
      "text/plain": [
       "<Figure size 432x288 with 2 Axes>"
      ]
     },
     "metadata": {
      "needs_background": "light"
     },
     "output_type": "display_data"
    }
   ],
   "source": [
    "sns.heatmap(df_cm_tuned_RF,annot=True)"
   ]
  },
  {
   "cell_type": "code",
   "execution_count": 99,
   "metadata": {},
   "outputs": [
    {
     "data": {
      "text/html": [
       "<div>\n",
       "<style scoped>\n",
       "    .dataframe tbody tr th:only-of-type {\n",
       "        vertical-align: middle;\n",
       "    }\n",
       "\n",
       "    .dataframe tbody tr th {\n",
       "        vertical-align: top;\n",
       "    }\n",
       "\n",
       "    .dataframe thead th {\n",
       "        text-align: right;\n",
       "    }\n",
       "</style>\n",
       "<table border=\"1\" class=\"dataframe\">\n",
       "  <thead>\n",
       "    <tr style=\"text-align: right;\">\n",
       "      <th></th>\n",
       "      <th>KNN</th>\n",
       "      <th>Decision_Tree</th>\n",
       "      <th>Random_Forest</th>\n",
       "      <th>KNN_Tuned</th>\n",
       "      <th>Decision_Tree_Tuned</th>\n",
       "      <th>Random_Forest_Tuned</th>\n",
       "    </tr>\n",
       "  </thead>\n",
       "  <tbody>\n",
       "    <tr>\n",
       "      <th>Accuracy</th>\n",
       "      <td>0.819214</td>\n",
       "      <td>0.944094</td>\n",
       "      <td>0.949484</td>\n",
       "      <td>0.850994</td>\n",
       "      <td>0.944752</td>\n",
       "      <td>0.950187</td>\n",
       "    </tr>\n",
       "    <tr>\n",
       "      <th>Precision</th>\n",
       "      <td>0.748383</td>\n",
       "      <td>0.900683</td>\n",
       "      <td>0.909909</td>\n",
       "      <td>0.771134</td>\n",
       "      <td>0.902079</td>\n",
       "      <td>0.910987</td>\n",
       "    </tr>\n",
       "    <tr>\n",
       "      <th>Recall</th>\n",
       "      <td>0.961797</td>\n",
       "      <td>0.998266</td>\n",
       "      <td>0.997757</td>\n",
       "      <td>0.998266</td>\n",
       "      <td>0.997817</td>\n",
       "      <td>0.997877</td>\n",
       "    </tr>\n",
       "    <tr>\n",
       "      <th>F1 Score</th>\n",
       "      <td>0.841774</td>\n",
       "      <td>0.946967</td>\n",
       "      <td>0.951810</td>\n",
       "      <td>0.870122</td>\n",
       "      <td>0.947536</td>\n",
       "      <td>0.952454</td>\n",
       "    </tr>\n",
       "  </tbody>\n",
       "</table>\n",
       "</div>"
      ],
      "text/plain": [
       "                KNN  Decision_Tree  Random_Forest  KNN_Tuned  \\\n",
       "Accuracy   0.819214       0.944094       0.949484   0.850994   \n",
       "Precision  0.748383       0.900683       0.909909   0.771134   \n",
       "Recall     0.961797       0.998266       0.997757   0.998266   \n",
       "F1 Score   0.841774       0.946967       0.951810   0.870122   \n",
       "\n",
       "           Decision_Tree_Tuned  Random_Forest_Tuned  \n",
       "Accuracy              0.944752             0.950187  \n",
       "Precision             0.902079             0.910987  \n",
       "Recall                0.997817             0.997877  \n",
       "F1 Score              0.947536             0.952454  "
      ]
     },
     "execution_count": 99,
     "metadata": {},
     "output_type": "execute_result"
    }
   ],
   "source": [
    "data= {\n",
    "    \"KNN\" : [accuracy_KNN_test,precision_KNN_test,recall_KNN_test,f1_KNN_test],\n",
    "    \"Decision_Tree\" : [accuracy_DT_test,precision_DT_test,recall_DT_test,f1_DT_test],\n",
    "    \"Random_Forest\" : [accuracy_RF_test,precision_RF_test,recall_RF_test,f1_RF_test],\n",
    "    \"KNN_Tuned\" : [accuracy_tuned_KNN_test,precision_tuned_KNN_test,recall_tuned_KNN_test,f1_tuned_KNN_test],\n",
    "    \"Decision_Tree_Tuned\" : [accuracy_tuned_DT_test,precision_tuned_DT_test,recall_tuned_DT_test,f1_tuned_DT_test],\n",
    "    \"Random_Forest_Tuned\" : [accuracy_tuned_RF_test,precision_tuned_RF_test,recall_tuned_RF_test,f1_tuned_RF_test]\n",
    "}\n",
    "pd.DataFrame(data=data, index=['Accuracy', 'Precision', 'Recall', 'F1 Score'])"
   ]
  },
  {
   "cell_type": "markdown",
   "metadata": {},
   "source": [
    "# -------- KESIMPULAN DAN SARAN ----"
   ]
  },
  {
   "cell_type": "markdown",
   "metadata": {},
   "source": [
    "# KESIMPULAN \n",
    "## 1. Berikut beberapa feature yang setelah dilakukan EDA, terlihat memiliki pengaruh pada keputusan akhir calon pemegang polis asuransi kendaraan, apakah mereka tertarik atau tidak :\n",
    "        - Usia, usahakan mencari yang berusia dengan rentang 20-40, karena rentang umur tersebut diatas kertas, berdasarkan data, memiliki kecenderungan 19.58% untuk tertarik mengasuransikan kendaraan mereka.\n",
    "        - Gender, Male lebih sadar akan kepentingan asurasansi kendaraan, dan cenderung akan tertarik, dengan angka 13.48%\n",
    "        - Driving_License, mereka yang sudah memiliki surat ijin mengemudi, cenderung akan tertarik untuk mengasuransikan kendaraan mereka, dengan kemungkinan 12.27%\n",
    "        - Previously_insured, yang sebelumnya sudah memiliki asuransi, cenderung akan mengasuransikan kendaraan mereka lagi, dengan kemungkinan 22.55%\n",
    "        - Vehicle_Damage, Mereka yang kendaraannya sudah pernah terkena damage, cenderung lebih tertarik untuk melakukan asuransi pada kendaraan mereka dengan kemungkinan 23.77%\n",
    "        - Vehicle_Age, Mereke yang umur kendaraannya diatas 2 tahun, lebih tertarik untuk melakukan asuransi pada kendaraan mereka, dibanding yang kendaraannya berusia dibawah 2 tahun. Kemungkinan mereka akan melakukan asuransi pada kendaraannya adalah 29.3%\n",
    "        - Region, beberapa wilayah yang memiliki presentase tinggi untuk melakukan asuransi pada kendaraan adalah wilayah dengan code : 38, 28, 19, 4, dan 23 dengan presentase 15-19%.\n",
    "## 2. Recall akan menjadi patokan, karena yang ingin dikurangi adalah orang yang ternyata tertarik, tapi di prediksi tidak tertarik. Secara tidak langsung, bisa saja kehilangan 1 pelanggan, karena dia sebenarnya tertarik, tapi karena mesin memprediksi dia tidak tertarik, jadi tidak ditawarkan dengan gencar. Berikut model yang bisa menjadi opsi :\n",
    "        - Random forest tuned(parameter seeperti pekerjaan diatas) menghasilkan nilai precision 0.997, walaupun sebenarnya masih overfit, tapi ini hasil terbaik. Kenapa tidak KNN tuned, karena pada model tersebut gap data train dan test nya, dengan kata lain model lebih overfit.\n",
    "        - Opsi lainnya ada : Decision tree tuned(parameter seeperti pekerjaan diatas) dan Random forest default.\n",
    "\n",
    "# SARAN \n",
    "## 1.  Target yang sempurna untuk ditawarkan asuransi kendaraan :\n",
    "        - Orang berusia kisaran 20-40 tahun\n",
    "        - Berjenis kelamin laki-laki, perempuan juga sebenarnuya tidak masalah, perbedaan presentase ketertarikan terhadap asuransi kendaraannya tidak begitu jauh, namun memang laki-laki cenderung lebih tinggi.\n",
    "        - Orang yang sudah memiliki surat ijin mengemudi.\n",
    "        - Orang yang sebelumnya sudah pernah mengasuransikan kendaraan mereka.\n",
    "        - Orang yang sebelumnya kendaraannya sudah pernah terkena damage.\n",
    "        - Orang yang umur dari kendaraannya diatas 2 tahun.\n",
    "        - Lebih direkomendasikan orang dengan region : 38, 28, 19, 4, dan 23\n",
    "## 2. Untuk model yang lebih signifikan dan tidak overfitting/underfitting :\n",
    "        - Lakukan feature engineering yang lebih banyak, mungkin feature selection atau feature scaling.\n",
    "        - Mungkin train size bisa diperbesar, agar model belajar lebih banyak, sehingga tidak overfitting.\n",
    "        - lakukah hyper parameter tuning, lebih banyak fitsnya, lebih dimainin parameternya agar bisa membuat model menjadi model yang bagus ==> TIDAK OVERFITTING"
   ]
  },
  {
   "cell_type": "markdown",
   "metadata": {},
   "source": [
    "# APLIKASI MODEL TERBAIK : RANDOM FOREST TUNED"
   ]
  },
  {
   "cell_type": "code",
   "execution_count": 179,
   "metadata": {},
   "outputs": [],
   "source": [
    "test[\"Gender\"] = test[\"Gender\"].map({\n",
    "    \"Male\" : 0,\n",
    "    \"Female\" : 1\n",
    "})\n",
    "\n",
    "test[\"Vehicle_Damage\"] = test[\"Vehicle_Damage\"].map({\n",
    "    \"Yes\" : 1,\n",
    "    \"No\" : 0\n",
    "})\n",
    "\n",
    "test[\"Vehicle_Age\"] = test[\"Vehicle_Age\"].map({\n",
    "    \"> 2 Years\" : 2,\n",
    "    \"1-2 Year\" : 1,\n",
    "    \"< 1 Year\" :0\n",
    "})"
   ]
  },
  {
   "cell_type": "code",
   "execution_count": 180,
   "metadata": {},
   "outputs": [
    {
     "data": {
      "text/html": [
       "<div>\n",
       "<style scoped>\n",
       "    .dataframe tbody tr th:only-of-type {\n",
       "        vertical-align: middle;\n",
       "    }\n",
       "\n",
       "    .dataframe tbody tr th {\n",
       "        vertical-align: top;\n",
       "    }\n",
       "\n",
       "    .dataframe thead th {\n",
       "        text-align: right;\n",
       "    }\n",
       "</style>\n",
       "<table border=\"1\" class=\"dataframe\">\n",
       "  <thead>\n",
       "    <tr style=\"text-align: right;\">\n",
       "      <th></th>\n",
       "      <th>Gender</th>\n",
       "      <th>Age</th>\n",
       "      <th>Driving_License</th>\n",
       "      <th>Region_Code</th>\n",
       "      <th>Previously_Insured</th>\n",
       "      <th>Vehicle_Age</th>\n",
       "      <th>Vehicle_Damage</th>\n",
       "      <th>Annual_Premium</th>\n",
       "      <th>Policy_Sales_Channel</th>\n",
       "      <th>Vintage</th>\n",
       "    </tr>\n",
       "    <tr>\n",
       "      <th>id</th>\n",
       "      <th></th>\n",
       "      <th></th>\n",
       "      <th></th>\n",
       "      <th></th>\n",
       "      <th></th>\n",
       "      <th></th>\n",
       "      <th></th>\n",
       "      <th></th>\n",
       "      <th></th>\n",
       "      <th></th>\n",
       "    </tr>\n",
       "  </thead>\n",
       "  <tbody>\n",
       "    <tr>\n",
       "      <th>381110</th>\n",
       "      <td>0</td>\n",
       "      <td>25</td>\n",
       "      <td>1</td>\n",
       "      <td>11.0</td>\n",
       "      <td>1</td>\n",
       "      <td>0</td>\n",
       "      <td>0</td>\n",
       "      <td>35786.0</td>\n",
       "      <td>152.0</td>\n",
       "      <td>53</td>\n",
       "    </tr>\n",
       "    <tr>\n",
       "      <th>381111</th>\n",
       "      <td>0</td>\n",
       "      <td>40</td>\n",
       "      <td>1</td>\n",
       "      <td>28.0</td>\n",
       "      <td>0</td>\n",
       "      <td>1</td>\n",
       "      <td>1</td>\n",
       "      <td>33762.0</td>\n",
       "      <td>7.0</td>\n",
       "      <td>111</td>\n",
       "    </tr>\n",
       "    <tr>\n",
       "      <th>381112</th>\n",
       "      <td>0</td>\n",
       "      <td>47</td>\n",
       "      <td>1</td>\n",
       "      <td>28.0</td>\n",
       "      <td>0</td>\n",
       "      <td>1</td>\n",
       "      <td>1</td>\n",
       "      <td>40050.0</td>\n",
       "      <td>124.0</td>\n",
       "      <td>199</td>\n",
       "    </tr>\n",
       "    <tr>\n",
       "      <th>381113</th>\n",
       "      <td>0</td>\n",
       "      <td>24</td>\n",
       "      <td>1</td>\n",
       "      <td>27.0</td>\n",
       "      <td>1</td>\n",
       "      <td>0</td>\n",
       "      <td>1</td>\n",
       "      <td>37356.0</td>\n",
       "      <td>152.0</td>\n",
       "      <td>187</td>\n",
       "    </tr>\n",
       "    <tr>\n",
       "      <th>381114</th>\n",
       "      <td>0</td>\n",
       "      <td>27</td>\n",
       "      <td>1</td>\n",
       "      <td>28.0</td>\n",
       "      <td>1</td>\n",
       "      <td>0</td>\n",
       "      <td>0</td>\n",
       "      <td>59097.0</td>\n",
       "      <td>152.0</td>\n",
       "      <td>297</td>\n",
       "    </tr>\n",
       "  </tbody>\n",
       "</table>\n",
       "</div>"
      ],
      "text/plain": [
       "        Gender  Age  Driving_License  Region_Code  Previously_Insured  \\\n",
       "id                                                                      \n",
       "381110       0   25                1         11.0                   1   \n",
       "381111       0   40                1         28.0                   0   \n",
       "381112       0   47                1         28.0                   0   \n",
       "381113       0   24                1         27.0                   1   \n",
       "381114       0   27                1         28.0                   1   \n",
       "\n",
       "        Vehicle_Age  Vehicle_Damage  Annual_Premium  Policy_Sales_Channel  \\\n",
       "id                                                                          \n",
       "381110            0               0         35786.0                 152.0   \n",
       "381111            1               1         33762.0                   7.0   \n",
       "381112            1               1         40050.0                 124.0   \n",
       "381113            0               1         37356.0                 152.0   \n",
       "381114            0               0         59097.0                 152.0   \n",
       "\n",
       "        Vintage  \n",
       "id               \n",
       "381110       53  \n",
       "381111      111  \n",
       "381112      199  \n",
       "381113      187  \n",
       "381114      297  "
      ]
     },
     "execution_count": 180,
     "metadata": {},
     "output_type": "execute_result"
    }
   ],
   "source": [
    "test.head()"
   ]
  },
  {
   "cell_type": "code",
   "execution_count": 181,
   "metadata": {},
   "outputs": [],
   "source": [
    "y_pred = RF_tuned.predict(test)"
   ]
  },
  {
   "cell_type": "code",
   "execution_count": 184,
   "metadata": {},
   "outputs": [],
   "source": [
    "test[\"Response\"] = y_pred"
   ]
  },
  {
   "cell_type": "code",
   "execution_count": 185,
   "metadata": {
    "scrolled": true
   },
   "outputs": [
    {
     "data": {
      "text/html": [
       "<div>\n",
       "<style scoped>\n",
       "    .dataframe tbody tr th:only-of-type {\n",
       "        vertical-align: middle;\n",
       "    }\n",
       "\n",
       "    .dataframe tbody tr th {\n",
       "        vertical-align: top;\n",
       "    }\n",
       "\n",
       "    .dataframe thead th {\n",
       "        text-align: right;\n",
       "    }\n",
       "</style>\n",
       "<table border=\"1\" class=\"dataframe\">\n",
       "  <thead>\n",
       "    <tr style=\"text-align: right;\">\n",
       "      <th></th>\n",
       "      <th>Gender</th>\n",
       "      <th>Age</th>\n",
       "      <th>Driving_License</th>\n",
       "      <th>Region_Code</th>\n",
       "      <th>Previously_Insured</th>\n",
       "      <th>Vehicle_Age</th>\n",
       "      <th>Vehicle_Damage</th>\n",
       "      <th>Annual_Premium</th>\n",
       "      <th>Policy_Sales_Channel</th>\n",
       "      <th>Vintage</th>\n",
       "      <th>y</th>\n",
       "      <th>Response</th>\n",
       "    </tr>\n",
       "    <tr>\n",
       "      <th>id</th>\n",
       "      <th></th>\n",
       "      <th></th>\n",
       "      <th></th>\n",
       "      <th></th>\n",
       "      <th></th>\n",
       "      <th></th>\n",
       "      <th></th>\n",
       "      <th></th>\n",
       "      <th></th>\n",
       "      <th></th>\n",
       "      <th></th>\n",
       "      <th></th>\n",
       "    </tr>\n",
       "  </thead>\n",
       "  <tbody>\n",
       "    <tr>\n",
       "      <th>381110</th>\n",
       "      <td>0</td>\n",
       "      <td>25</td>\n",
       "      <td>1</td>\n",
       "      <td>11.0</td>\n",
       "      <td>1</td>\n",
       "      <td>0</td>\n",
       "      <td>0</td>\n",
       "      <td>35786.0</td>\n",
       "      <td>152.0</td>\n",
       "      <td>53</td>\n",
       "      <td>0</td>\n",
       "      <td>0</td>\n",
       "    </tr>\n",
       "    <tr>\n",
       "      <th>381111</th>\n",
       "      <td>0</td>\n",
       "      <td>40</td>\n",
       "      <td>1</td>\n",
       "      <td>28.0</td>\n",
       "      <td>0</td>\n",
       "      <td>1</td>\n",
       "      <td>1</td>\n",
       "      <td>33762.0</td>\n",
       "      <td>7.0</td>\n",
       "      <td>111</td>\n",
       "      <td>1</td>\n",
       "      <td>1</td>\n",
       "    </tr>\n",
       "    <tr>\n",
       "      <th>381112</th>\n",
       "      <td>0</td>\n",
       "      <td>47</td>\n",
       "      <td>1</td>\n",
       "      <td>28.0</td>\n",
       "      <td>0</td>\n",
       "      <td>1</td>\n",
       "      <td>1</td>\n",
       "      <td>40050.0</td>\n",
       "      <td>124.0</td>\n",
       "      <td>199</td>\n",
       "      <td>0</td>\n",
       "      <td>0</td>\n",
       "    </tr>\n",
       "    <tr>\n",
       "      <th>381113</th>\n",
       "      <td>0</td>\n",
       "      <td>24</td>\n",
       "      <td>1</td>\n",
       "      <td>27.0</td>\n",
       "      <td>1</td>\n",
       "      <td>0</td>\n",
       "      <td>1</td>\n",
       "      <td>37356.0</td>\n",
       "      <td>152.0</td>\n",
       "      <td>187</td>\n",
       "      <td>0</td>\n",
       "      <td>0</td>\n",
       "    </tr>\n",
       "    <tr>\n",
       "      <th>381114</th>\n",
       "      <td>0</td>\n",
       "      <td>27</td>\n",
       "      <td>1</td>\n",
       "      <td>28.0</td>\n",
       "      <td>1</td>\n",
       "      <td>0</td>\n",
       "      <td>0</td>\n",
       "      <td>59097.0</td>\n",
       "      <td>152.0</td>\n",
       "      <td>297</td>\n",
       "      <td>0</td>\n",
       "      <td>0</td>\n",
       "    </tr>\n",
       "  </tbody>\n",
       "</table>\n",
       "</div>"
      ],
      "text/plain": [
       "        Gender  Age  Driving_License  Region_Code  Previously_Insured  \\\n",
       "id                                                                      \n",
       "381110       0   25                1         11.0                   1   \n",
       "381111       0   40                1         28.0                   0   \n",
       "381112       0   47                1         28.0                   0   \n",
       "381113       0   24                1         27.0                   1   \n",
       "381114       0   27                1         28.0                   1   \n",
       "\n",
       "        Vehicle_Age  Vehicle_Damage  Annual_Premium  Policy_Sales_Channel  \\\n",
       "id                                                                          \n",
       "381110            0               0         35786.0                 152.0   \n",
       "381111            1               1         33762.0                   7.0   \n",
       "381112            1               1         40050.0                 124.0   \n",
       "381113            0               1         37356.0                 152.0   \n",
       "381114            0               0         59097.0                 152.0   \n",
       "\n",
       "        Vintage  y  Response  \n",
       "id                            \n",
       "381110       53  0         0  \n",
       "381111      111  1         1  \n",
       "381112      199  0         0  \n",
       "381113      187  0         0  \n",
       "381114      297  0         0  "
      ]
     },
     "execution_count": 185,
     "metadata": {},
     "output_type": "execute_result"
    }
   ],
   "source": [
    "test.head()"
   ]
  }
 ],
 "metadata": {
  "kernelspec": {
   "display_name": "Python 3",
   "language": "python",
   "name": "python3"
  },
  "language_info": {
   "codemirror_mode": {
    "name": "ipython",
    "version": 3
   },
   "file_extension": ".py",
   "mimetype": "text/x-python",
   "name": "python",
   "nbconvert_exporter": "python",
   "pygments_lexer": "ipython3",
   "version": "3.8.3"
  }
 },
 "nbformat": 4,
 "nbformat_minor": 4
}
